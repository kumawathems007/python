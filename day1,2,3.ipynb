{
 "cells": [
  {
   "cell_type": "code",
   "execution_count": 1,
   "metadata": {},
   "outputs": [
    {
     "data": {
      "text/plain": [
       "9"
      ]
     },
     "execution_count": 1,
     "metadata": {},
     "output_type": "execute_result"
    }
   ],
   "source": [
    "4+5\n"
   ]
  },
  {
   "cell_type": "code",
   "execution_count": 2,
   "metadata": {},
   "outputs": [
    {
     "data": {
      "text/plain": [
       "3"
      ]
     },
     "execution_count": 2,
     "metadata": {},
     "output_type": "execute_result"
    }
   ],
   "source": [
    "7//2\n"
   ]
  },
  {
   "cell_type": "code",
   "execution_count": 3,
   "metadata": {},
   "outputs": [
    {
     "data": {
      "text/plain": [
       "3.5"
      ]
     },
     "execution_count": 3,
     "metadata": {},
     "output_type": "execute_result"
    }
   ],
   "source": [
    "7/2"
   ]
  },
  {
   "cell_type": "code",
   "execution_count": 4,
   "metadata": {},
   "outputs": [],
   "source": [
    "a=10\n",
    "b=20\n",
    "c=10\n"
   ]
  },
  {
   "cell_type": "code",
   "execution_count": 5,
   "metadata": {},
   "outputs": [
    {
     "data": {
      "text/plain": [
       "10"
      ]
     },
     "execution_count": 5,
     "metadata": {},
     "output_type": "execute_result"
    }
   ],
   "source": [
    "a or b"
   ]
  },
  {
   "cell_type": "code",
   "execution_count": 6,
   "metadata": {},
   "outputs": [
    {
     "data": {
      "text/plain": [
       "False"
      ]
     },
     "execution_count": 6,
     "metadata": {},
     "output_type": "execute_result"
    }
   ],
   "source": [
    "a>b"
   ]
  },
  {
   "cell_type": "code",
   "execution_count": 12,
   "metadata": {},
   "outputs": [
    {
     "name": "stdout",
     "output_type": "stream",
     "text": [
      "['False', 'None', 'True', 'and', 'as', 'assert', 'async', 'await', 'break', 'class', 'continue', 'def', 'del', 'elif', 'else', 'except', 'finally', 'for', 'from', 'global', 'if', 'import', 'in', 'is', 'lambda', 'nonlocal', 'not', 'or', 'pass', 'raise', 'return', 'try', 'while', 'with', 'yield']\n"
     ]
    }
   ],
   "source": [
    "from keyword import kwlist\n",
    "kwlist\n",
    "len(kwlist)\n",
    "print(kwlist)"
   ]
  },
  {
   "cell_type": "code",
   "execution_count": 13,
   "metadata": {},
   "outputs": [
    {
     "name": "stdout",
     "output_type": "stream",
     "text": [
      "<class 'bool'>\n"
     ]
    }
   ],
   "source": [
    "8>3 and 10<6\n",
    "print(bool)"
   ]
  },
  {
   "cell_type": "code",
   "execution_count": 9,
   "metadata": {},
   "outputs": [
    {
     "data": {
      "text/plain": [
       "False"
      ]
     },
     "execution_count": 9,
     "metadata": {},
     "output_type": "execute_result"
    }
   ],
   "source": [
    "7<4 or 3>4 or 6<5 or not (7<10 and 6<18)"
   ]
  },
  {
   "cell_type": "code",
   "execution_count": 14,
   "metadata": {},
   "outputs": [],
   "source": [
    "d=10\n",
    "e=8\n",
    "f=2"
   ]
  },
  {
   "cell_type": "code",
   "execution_count": 15,
   "metadata": {},
   "outputs": [
    {
     "name": "stdout",
     "output_type": "stream",
     "text": [
      "8\n",
      "10\n",
      "2\n",
      "-11\n",
      "5\n",
      "40\n"
     ]
    }
   ],
   "source": [
    "#firstly 5 will be converted to binary and perfrom operations\n",
    "print(d&e)\n",
    "print(d|e)\n",
    "print(d^e)\n",
    "#\n",
    "print(~d)\n",
    "#m >> n -> n/2^n\n",
    "print(d >> 1)\n",
    "#m << n -> m*2^n\n",
    "print(d << 2)"
   ]
  },
  {
   "cell_type": "code",
   "execution_count": 91,
   "metadata": {},
   "outputs": [
    {
     "data": {
      "text/plain": [
       "True"
      ]
     },
     "execution_count": 91,
     "metadata": {},
     "output_type": "execute_result"
    }
   ],
   "source": [
    "'h' in 'yashraj monani'"
   ]
  },
  {
   "cell_type": "code",
   "execution_count": 92,
   "metadata": {},
   "outputs": [
    {
     "data": {
      "text/plain": [
       "False"
      ]
     },
     "execution_count": 92,
     "metadata": {},
     "output_type": "execute_result"
    }
   ],
   "source": [
    "'g' in 'yashraj monani'"
   ]
  },
  {
   "cell_type": "code",
   "execution_count": 93,
   "metadata": {},
   "outputs": [],
   "source": [
    "\n",
    "a1=2\n",
    "a2=1\n"
   ]
  },
  {
   "cell_type": "code",
   "execution_count": 94,
   "metadata": {},
   "outputs": [
    {
     "data": {
      "text/plain": [
       "(2697402778128, 2697402777872, 2697402777840)"
      ]
     },
     "execution_count": 94,
     "metadata": {},
     "output_type": "execute_result"
    }
   ],
   "source": [
    "id(a), id(a1), id(a2)"
   ]
  },
  {
   "cell_type": "code",
   "execution_count": 30,
   "metadata": {},
   "outputs": [],
   "source": [
    "a= 10\n",
    "a,b=10,20\n",
    "a=b=30\n",
    "a=10,20"
   ]
  },
  {
   "cell_type": "code",
   "execution_count": 31,
   "metadata": {},
   "outputs": [
    {
     "data": {
      "text/plain": [
       "30"
      ]
     },
     "execution_count": 31,
     "metadata": {},
     "output_type": "execute_result"
    }
   ],
   "source": [
    "b"
   ]
  },
  {
   "cell_type": "code",
   "execution_count": 32,
   "metadata": {},
   "outputs": [
    {
     "data": {
      "text/plain": [
       "int"
      ]
     },
     "execution_count": 32,
     "metadata": {},
     "output_type": "execute_result"
    }
   ],
   "source": [
    "#tuple ke liye bracket jaruru nhi\n",
    "type(b)"
   ]
  },
  {
   "cell_type": "code",
   "execution_count": 37,
   "metadata": {},
   "outputs": [
    {
     "name": "stdout",
     "output_type": "stream",
     "text": [
      "5 /6 /7\n"
     ]
    }
   ],
   "source": [
    "print(5,6,7,sep=' /')"
   ]
  },
  {
   "cell_type": "code",
   "execution_count": 38,
   "metadata": {},
   "outputs": [
    {
     "name": "stdout",
     "output_type": "stream",
     "text": [
      "5 6 7\n",
      "7 8 9\n"
     ]
    }
   ],
   "source": [
    "print(5,6,7,end='\\n')\n",
    "print(7,8,9)"
   ]
  },
  {
   "cell_type": "code",
   "execution_count": 39,
   "metadata": {},
   "outputs": [
    {
     "name": "stdout",
     "output_type": "stream",
     "text": [
      "hi\n"
     ]
    }
   ],
   "source": [
    "#print never returns\n",
    "k=print('hi')"
   ]
  },
  {
   "cell_type": "code",
   "execution_count": 40,
   "metadata": {},
   "outputs": [],
   "source": [
    "k"
   ]
  },
  {
   "cell_type": "code",
   "execution_count": 41,
   "metadata": {},
   "outputs": [
    {
     "data": {
      "text/plain": [
       "NoneType"
      ]
     },
     "execution_count": 41,
     "metadata": {},
     "output_type": "execute_result"
    }
   ],
   "source": [
    "type(k)"
   ]
  },
  {
   "cell_type": "code",
   "execution_count": 49,
   "metadata": {},
   "outputs": [
    {
     "name": "stdout",
     "output_type": "stream",
     "text": [
      "sum([5,57,5,4,])\n",
      "71\n"
     ]
    }
   ],
   "source": [
    "n = input('enter a python expression: ')\n",
    "print(n)\n",
    "print(eval(n))"
   ]
  },
  {
   "cell_type": "code",
   "execution_count": 50,
   "metadata": {},
   "outputs": [],
   "source": [
    "#Mutability"
   ]
  },
  {
   "cell_type": "code",
   "execution_count": 51,
   "metadata": {},
   "outputs": [],
   "source": [
    "s='hello, this is my face and Y'"
   ]
  },
  {
   "cell_type": "code",
   "execution_count": 52,
   "metadata": {},
   "outputs": [
    {
     "name": "stdout",
     "output_type": "stream",
     "text": [
      "hello, this is my face and Y\n"
     ]
    }
   ],
   "source": [
    "print(s)"
   ]
  },
  {
   "cell_type": "code",
   "execution_count": 53,
   "metadata": {},
   "outputs": [
    {
     "data": {
      "text/plain": [
       "28"
      ]
     },
     "execution_count": 53,
     "metadata": {},
     "output_type": "execute_result"
    }
   ],
   "source": [
    "len(s)"
   ]
  },
  {
   "cell_type": "code",
   "execution_count": 59,
   "metadata": {},
   "outputs": [
    {
     "data": {
      "text/plain": [
       "str"
      ]
     },
     "execution_count": 59,
     "metadata": {},
     "output_type": "execute_result"
    }
   ],
   "source": [
    "type(s)"
   ]
  },
  {
   "cell_type": "code",
   "execution_count": 60,
   "metadata": {},
   "outputs": [
    {
     "data": {
      "text/plain": [
       "'h'"
      ]
     },
     "execution_count": 60,
     "metadata": {},
     "output_type": "execute_result"
    }
   ],
   "source": [
    "s[0]\n"
   ]
  },
  {
   "cell_type": "code",
   "execution_count": 61,
   "metadata": {},
   "outputs": [
    {
     "data": {
      "text/plain": [
       "'d'"
      ]
     },
     "execution_count": 61,
     "metadata": {},
     "output_type": "execute_result"
    }
   ],
   "source": [
    "s[-3]"
   ]
  },
  {
   "cell_type": "code",
   "execution_count": 64,
   "metadata": {},
   "outputs": [
    {
     "data": {
      "text/plain": [
       "'hello'"
      ]
     },
     "execution_count": 64,
     "metadata": {},
     "output_type": "execute_result"
    }
   ],
   "source": [
    "#slicing- [begin : end (exclusive) : step size]\n",
    "#default  [ : :.....] step-size=+1\n",
    "#         [...:x:y] begin = 0(step size->+ve) end=0(step size->-ve)\n",
    "s[0:5:1]"
   ]
  },
  {
   "cell_type": "code",
   "execution_count": 65,
   "metadata": {},
   "outputs": [
    {
     "data": {
      "text/plain": [
       "'e and Y'"
      ]
     },
     "execution_count": 65,
     "metadata": {},
     "output_type": "execute_result"
    }
   ],
   "source": [
    "s[-7:28:1]"
   ]
  },
  {
   "cell_type": "code",
   "execution_count": 68,
   "metadata": {},
   "outputs": [
    {
     "data": {
      "text/plain": [
       "'Y dna e'"
      ]
     },
     "execution_count": 68,
     "metadata": {},
     "output_type": "execute_result"
    }
   ],
   "source": [
    "s[-1:-8:-1]"
   ]
  },
  {
   "cell_type": "code",
   "execution_count": 70,
   "metadata": {},
   "outputs": [
    {
     "data": {
      "text/plain": [
       "', thi'"
      ]
     },
     "execution_count": 70,
     "metadata": {},
     "output_type": "execute_result"
    }
   ],
   "source": [
    "s[-23:-18:1]"
   ]
  },
  {
   "cell_type": "code",
   "execution_count": 71,
   "metadata": {},
   "outputs": [
    {
     "data": {
      "text/plain": [
       "'olleh'"
      ]
     },
     "execution_count": 71,
     "metadata": {},
     "output_type": "execute_result"
    }
   ],
   "source": [
    "#s[-24:-29:-1] \n",
    "s[4:-29:-1]"
   ]
  },
  {
   "cell_type": "code",
   "execution_count": 72,
   "metadata": {},
   "outputs": [
    {
     "data": {
      "text/plain": [
       "'siht '"
      ]
     },
     "execution_count": 72,
     "metadata": {},
     "output_type": "execute_result"
    }
   ],
   "source": [
    "s[-18:-23:-1]"
   ]
  },
  {
   "cell_type": "code",
   "execution_count": 73,
   "metadata": {},
   "outputs": [
    {
     "data": {
      "text/plain": [
       "'olleh'"
      ]
     },
     "execution_count": 73,
     "metadata": {},
     "output_type": "execute_result"
    }
   ],
   "source": [
    "s[4::-1]"
   ]
  },
  {
   "cell_type": "code",
   "execution_count": 74,
   "metadata": {},
   "outputs": [
    {
     "data": {
      "text/plain": [
       "'Y dna ecaf ym si siht ,olleh'"
      ]
     },
     "execution_count": 74,
     "metadata": {},
     "output_type": "execute_result"
    }
   ],
   "source": [
    "s[::-1]"
   ]
  },
  {
   "cell_type": "code",
   "execution_count": 75,
   "metadata": {},
   "outputs": [
    {
     "data": {
      "text/plain": [
       "'hihihihihihihihihihi'"
      ]
     },
     "execution_count": 75,
     "metadata": {},
     "output_type": "execute_result"
    }
   ],
   "source": [
    "'hi'*10"
   ]
  },
  {
   "cell_type": "code",
   "execution_count": 76,
   "metadata": {},
   "outputs": [
    {
     "data": {
      "text/plain": [
       "'hibye'"
      ]
     },
     "execution_count": 76,
     "metadata": {},
     "output_type": "execute_result"
    }
   ],
   "source": [
    "'hi'+'bye'"
   ]
  },
  {
   "cell_type": "code",
   "execution_count": 77,
   "metadata": {},
   "outputs": [
    {
     "data": {
      "text/plain": [
       "'hello, this is my face and Y'"
      ]
     },
     "execution_count": 77,
     "metadata": {},
     "output_type": "execute_result"
    }
   ],
   "source": [
    "s"
   ]
  },
  {
   "cell_type": "code",
   "execution_count": 78,
   "metadata": {},
   "outputs": [
    {
     "data": {
      "text/plain": [
       "'hello, this is my face and Y here'"
      ]
     },
     "execution_count": 78,
     "metadata": {},
     "output_type": "execute_result"
    }
   ],
   "source": [
    "s+= ' here'\n",
    "s"
   ]
  },
  {
   "cell_type": "code",
   "execution_count": 94,
   "metadata": {},
   "outputs": [
    {
     "data": {
      "text/plain": [
       "'  Yas Yash Yash Yash Yash Yashh Yash, this is my face and Yash Y here'"
      ]
     },
     "execution_count": 94,
     "metadata": {},
     "output_type": "execute_result"
    }
   ],
   "source": [
    "s=s[:5]+' Yash'+s[5:]\n",
    "s"
   ]
  },
  {
   "cell_type": "code",
   "execution_count": 87,
   "metadata": {},
   "outputs": [
    {
     "data": {
      "text/plain": [
       "'  Yas Yash Yash Yash Yashh Yash, this is my face and Y here'"
      ]
     },
     "execution_count": 87,
     "metadata": {},
     "output_type": "execute_result"
    }
   ],
   "source": [
    "s"
   ]
  },
  {
   "cell_type": "code",
   "execution_count": 100,
   "metadata": {},
   "outputs": [
    {
     "data": {
      "text/plain": [
       "'yyyy  Yas Yash Yash Yash Yash Yashh Yash, this is my face and Yash Y here'"
      ]
     },
     "execution_count": 100,
     "metadata": {},
     "output_type": "execute_result"
    }
   ],
   "source": [
    "s=s[:0]+'y'+s[0:]\n",
    "s"
   ]
  },
  {
   "cell_type": "code",
   "execution_count": 104,
   "metadata": {},
   "outputs": [
    {
     "ename": "TypeError",
     "evalue": "'str' object doesn't support item deletion",
     "output_type": "error",
     "traceback": [
      "\u001b[1;31m---------------------------------------------------------------------------\u001b[0m",
      "\u001b[1;31mTypeError\u001b[0m                                 Traceback (most recent call last)",
      "\u001b[1;32mc:\\Users\\Lenovo\\Desktop\\python AIDP\\day1,2,3.ipynb Cell 47\u001b[0m in \u001b[0;36m<cell line: 1>\u001b[1;34m()\u001b[0m\n\u001b[1;32m----> <a href='vscode-notebook-cell:/c%3A/Users/Lenovo/Desktop/python%20AIDP/day1%2C2%2C3.ipynb#X64sZmlsZQ%3D%3D?line=0'>1</a>\u001b[0m \u001b[39mdel\u001b[39;00m s[\u001b[39m1\u001b[39m]\n",
      "\u001b[1;31mTypeError\u001b[0m: 'str' object doesn't support item deletion"
     ]
    }
   ],
   "source": [
    "del s[1]"
   ]
  },
  {
   "cell_type": "code",
   "execution_count": 105,
   "metadata": {},
   "outputs": [],
   "source": [
    "a=[23,'21',[4,3,5]]"
   ]
  },
  {
   "cell_type": "code",
   "execution_count": null,
   "metadata": {},
   "outputs": [
    {
     "name": "stdout",
     "output_type": "stream",
     "text": [
      "[23, '21', [4, 3, 5]]\n",
      "3\n",
      "<class 'list'>\n"
     ]
    }
   ],
   "source": [
    "print(a)\n",
    "print(len(a))\n",
    "print(type(a))"
   ]
  },
  {
   "cell_type": "code",
   "execution_count": 108,
   "metadata": {},
   "outputs": [
    {
     "data": {
      "text/plain": [
       "[23, '21']"
      ]
     },
     "execution_count": 108,
     "metadata": {},
     "output_type": "execute_result"
    }
   ],
   "source": [
    "a[:2]\n"
   ]
  },
  {
   "cell_type": "code",
   "execution_count": 109,
   "metadata": {},
   "outputs": [
    {
     "data": {
      "text/plain": [
       "[4, 3, 5]"
      ]
     },
     "execution_count": 109,
     "metadata": {},
     "output_type": "execute_result"
    }
   ],
   "source": [
    "\n",
    "a[-1]"
   ]
  },
  {
   "cell_type": "code",
   "execution_count": 116,
   "metadata": {},
   "outputs": [
    {
     "data": {
      "text/plain": [
       "'1'"
      ]
     },
     "execution_count": 116,
     "metadata": {},
     "output_type": "execute_result"
    }
   ],
   "source": [
    "#nesting\n",
    "a[-2][-1]"
   ]
  },
  {
   "cell_type": "code",
   "execution_count": 117,
   "metadata": {},
   "outputs": [
    {
     "data": {
      "text/plain": [
       "5"
      ]
     },
     "execution_count": 117,
     "metadata": {},
     "output_type": "execute_result"
    }
   ],
   "source": [
    "a[-1][-1]"
   ]
  },
  {
   "cell_type": "code",
   "execution_count": 119,
   "metadata": {},
   "outputs": [
    {
     "data": {
      "text/plain": [
       "[4, 5, 7, 4, 5, 7]"
      ]
     },
     "execution_count": 119,
     "metadata": {},
     "output_type": "execute_result"
    }
   ],
   "source": [
    "[4,5,7]*2"
   ]
  },
  {
   "cell_type": "code",
   "execution_count": 127,
   "metadata": {},
   "outputs": [
    {
     "data": {
      "text/plain": [
       "[23,\n",
       " '21',\n",
       " [4, 3, 5],\n",
       " 10,\n",
       " 20,\n",
       " [10, 20],\n",
       " 10,\n",
       " 20,\n",
       " 10,\n",
       " 20,\n",
       " 10,\n",
       " 20,\n",
       " 'Hello',\n",
       " 10,\n",
       " 20,\n",
       " 10,\n",
       " 20]"
      ]
     },
     "execution_count": 127,
     "metadata": {},
     "output_type": "execute_result"
    }
   ],
   "source": [
    "a +=[10,20]\n",
    "a"
   ]
  },
  {
   "cell_type": "code",
   "execution_count": 125,
   "metadata": {},
   "outputs": [
    {
     "data": {
      "text/plain": [
       "[23, '21', [4, 3, 5], 10, 20, [10, 20], 10, 20, 10, 20, 10, 20, 'Hello']"
      ]
     },
     "execution_count": 125,
     "metadata": {},
     "output_type": "execute_result"
    }
   ],
   "source": [
    "a+=['Hello']\n",
    "a"
   ]
  },
  {
   "cell_type": "code",
   "execution_count": 128,
   "metadata": {},
   "outputs": [
    {
     "data": {
      "text/plain": [
       "[23,\n",
       " '21',\n",
       " [4, 3, 5],\n",
       " 10,\n",
       " 20,\n",
       " [10, 20],\n",
       " 10,\n",
       " 20,\n",
       " 10,\n",
       " 20,\n",
       " 10,\n",
       " 20,\n",
       " 'Hello',\n",
       " 10,\n",
       " 20,\n",
       " 10,\n",
       " 20,\n",
       " 'e45rgter56']"
      ]
     },
     "execution_count": 128,
     "metadata": {},
     "output_type": "execute_result"
    }
   ],
   "source": [
    "a+=['e45rgter56']\n",
    "a"
   ]
  },
  {
   "cell_type": "code",
   "execution_count": 140,
   "metadata": {},
   "outputs": [
    {
     "data": {
      "text/plain": [
       "[3.5]"
      ]
     },
     "execution_count": 140,
     "metadata": {},
     "output_type": "execute_result"
    }
   ],
   "source": [
    "a[0]=3.5\n",
    "a"
   ]
  },
  {
   "cell_type": "code",
   "execution_count": 138,
   "metadata": {},
   "outputs": [
    {
     "data": {
      "text/plain": [
       "[3.5]"
      ]
     },
     "execution_count": 138,
     "metadata": {},
     "output_type": "execute_result"
    }
   ],
   "source": [
    "del a[-1]\n",
    "a"
   ]
  },
  {
   "cell_type": "code",
   "execution_count": 141,
   "metadata": {},
   "outputs": [
    {
     "data": {
      "text/plain": [
       "[4, 6, 34, 'hi']"
      ]
     },
     "execution_count": 141,
     "metadata": {},
     "output_type": "execute_result"
    }
   ],
   "source": [
    "a=[4,6,34,'hi']\n",
    "a"
   ]
  },
  {
   "cell_type": "code",
   "execution_count": 142,
   "metadata": {},
   "outputs": [
    {
     "data": {
      "text/plain": [
       "[4, 6, 34, 'hi', 'a', 'b']"
      ]
     },
     "execution_count": 142,
     "metadata": {},
     "output_type": "execute_result"
    }
   ],
   "source": [
    "a+={'a':3,'b':5}\n",
    "a"
   ]
  },
  {
   "cell_type": "code",
   "execution_count": 106,
   "metadata": {},
   "outputs": [
    {
     "data": {
      "text/plain": [
       "[4, 6, 34, 'hi', 'a', 'b', 8, 9, 7]"
      ]
     },
     "execution_count": 106,
     "metadata": {},
     "output_type": "execute_result"
    }
   ],
   "source": [
    "a+={7,8,9}\n",
    "a"
   ]
  },
  {
   "cell_type": "code",
   "execution_count": 163,
   "metadata": {},
   "outputs": [
    {
     "name": "stdout",
     "output_type": "stream",
     "text": [
      "{'a': 3, 'b': 5}\n",
      "2\n",
      "<class 'dict'>\n",
      "3\n"
     ]
    }
   ],
   "source": [
    "#no slicing in dictionary\n",
    "a={'a':3,'b':5}\n",
    "print(a)\n",
    "print(len(a))\n",
    "print(type(a))\n",
    "print(a['a'])"
   ]
  },
  {
   "cell_type": "code",
   "execution_count": 166,
   "metadata": {},
   "outputs": [],
   "source": [
    "dholu={'bobo':'5 cm','gandh':'34','verticallipsdeath':'6 inch'}"
   ]
  },
  {
   "cell_type": "code",
   "execution_count": 161,
   "metadata": {},
   "outputs": [
    {
     "data": {
      "text/plain": [
       "{'bobo': '5 cm'}"
      ]
     },
     "execution_count": 161,
     "metadata": {},
     "output_type": "execute_result"
    }
   ],
   "source": [
    "dholu={'bobo':'5 cm'}\n",
    "dholu"
   ]
  },
  {
   "cell_type": "code",
   "execution_count": 167,
   "metadata": {},
   "outputs": [
    {
     "data": {
      "text/plain": [
       "{'b': 5}"
      ]
     },
     "execution_count": 167,
     "metadata": {},
     "output_type": "execute_result"
    }
   ],
   "source": [
    "del a['a']\n",
    "a"
   ]
  },
  {
   "cell_type": "code",
   "execution_count": 172,
   "metadata": {},
   "outputs": [
    {
     "data": {
      "text/plain": [
       "{'a': 'jj'}"
      ]
     },
     "execution_count": 172,
     "metadata": {},
     "output_type": "execute_result"
    }
   ],
   "source": [
    "aa={'a':\"jfhg\",'b':\"kdj\"}\n",
    "aa={'a':\"jj\"}\n"
   ]
  },
  {
   "cell_type": "code",
   "execution_count": 2,
   "metadata": {},
   "outputs": [
    {
     "name": "stdout",
     "output_type": "stream",
     "text": [
      "{1, 4, 5, 6, 7, 45}\n"
     ]
    }
   ],
   "source": [
    "b={1,4,45,5,5,6,6,7}\n",
    "print(b)"
   ]
  },
  {
   "cell_type": "code",
   "execution_count": 3,
   "metadata": {},
   "outputs": [
    {
     "ename": "TypeError",
     "evalue": "'set' object is not subscriptable",
     "output_type": "error",
     "traceback": [
      "\u001b[1;31m---------------------------------------------------------------------------\u001b[0m",
      "\u001b[1;31mTypeError\u001b[0m                                 Traceback (most recent call last)",
      "\u001b[1;32mc:\\Users\\Lenovo\\Desktop\\python AIDP\\day1,2,3.ipynb Cell 69\u001b[0m in \u001b[0;36m<cell line: 2>\u001b[1;34m()\u001b[0m\n\u001b[0;32m      <a href='vscode-notebook-cell:/c%3A/Users/Lenovo/Desktop/python%20AIDP/day1%2C2%2C3.ipynb#Y125sZmlsZQ%3D%3D?line=0'>1</a>\u001b[0m \u001b[39m#set is unordered and \u001b[39;00m\n\u001b[1;32m----> <a href='vscode-notebook-cell:/c%3A/Users/Lenovo/Desktop/python%20AIDP/day1%2C2%2C3.ipynb#Y125sZmlsZQ%3D%3D?line=1'>2</a>\u001b[0m b[\u001b[39m0\u001b[39;49m]\n",
      "\u001b[1;31mTypeError\u001b[0m: 'set' object is not subscriptable"
     ]
    }
   ],
   "source": [
    "#set is unordered and \n",
    "b[0]"
   ]
  },
  {
   "cell_type": "code",
   "execution_count": 9,
   "metadata": {},
   "outputs": [
    {
     "data": {
      "text/plain": [
       "True"
      ]
     },
     "execution_count": 9,
     "metadata": {},
     "output_type": "execute_result"
    }
   ],
   "source": [
    "#bool will give true in case of non-empty data and non zero\n",
    "#false for zero and empty data\n",
    "bool(9)\n",
    "bool(-3)"
   ]
  },
  {
   "cell_type": "code",
   "execution_count": 21,
   "metadata": {},
   "outputs": [
    {
     "data": {
      "text/plain": [
       "True"
      ]
     },
     "execution_count": 21,
     "metadata": {},
     "output_type": "execute_result"
    }
   ],
   "source": [
    "#print(bool([]))\n",
    "#bool('')\n",
    "#bool(())\n",
    "#bool(({}))\n",
    "#bool((None))\n",
    "\n",
    "#bool(([4]))\n",
    "#bool([()])\n",
    "bool(' ')"
   ]
  },
  {
   "cell_type": "code",
   "execution_count": 57,
   "metadata": {},
   "outputs": [],
   "source": [
    "d=' Hell low '\n",
    "e=[ 'a','b']"
   ]
  },
  {
   "cell_type": "code",
   "execution_count": 68,
   "metadata": {},
   "outputs": [
    {
     "name": "stdout",
     "output_type": "stream",
     "text": [
      "3\n",
      "2\n",
      "3\n",
      "[' He', '', ' ', 'ow ']\n",
      "10\n",
      "Hell low\n",
      "10\n"
     ]
    }
   ],
   "source": [
    "#string Functions\n",
    "print(d.count('l'))\n",
    "print(d.index('e'))\n",
    "print(d.find('l'))\n",
    "print(d.split('l'))\n",
    "print(len(d))\n",
    "print(d.strip())\n",
    "print(len(d))\n",
    "#print(d.replace('l'),('L'))"
   ]
  },
  {
   "cell_type": "code",
   "execution_count": 21,
   "metadata": {},
   "outputs": [
    {
     "data": {
      "text/plain": [
       "<function str.strip(chars=None, /)>"
      ]
     },
     "execution_count": 21,
     "metadata": {},
     "output_type": "execute_result"
    }
   ],
   "source": [
    "'   hi this is   '.strip"
   ]
  },
  {
   "cell_type": "code",
   "execution_count": 70,
   "metadata": {},
   "outputs": [
    {
     "data": {
      "text/plain": [
       "<function str.split(sep=None, maxsplit=-1)>"
      ]
     },
     "execution_count": 70,
     "metadata": {},
     "output_type": "execute_result"
    }
   ],
   "source": [
    "'hi this is'.split"
   ]
  },
  {
   "cell_type": "code",
   "execution_count": 23,
   "metadata": {},
   "outputs": [
    {
     "data": {
      "text/plain": [
       "'bawesomeaawesomekawesomewawesomeaawesomeaawesomes'"
      ]
     },
     "execution_count": 23,
     "metadata": {},
     "output_type": "execute_result"
    }
   ],
   "source": [
    "'awesome'.join('bakwaas')"
   ]
  },
  {
   "cell_type": "code",
   "execution_count": 71,
   "metadata": {},
   "outputs": [
    {
     "data": {
      "text/plain": [
       "'b a k w a s'"
      ]
     },
     "execution_count": 71,
     "metadata": {},
     "output_type": "execute_result"
    }
   ],
   "source": [
    "' '.join('bakwas')"
   ]
  },
  {
   "cell_type": "code",
   "execution_count": 25,
   "metadata": {},
   "outputs": [
    {
     "data": {
      "text/plain": [
       "'hiwowtherewowtowownice'"
      ]
     },
     "execution_count": 25,
     "metadata": {},
     "output_type": "execute_result"
    }
   ],
   "source": [
    "'wow'.join(['hi','there','to','nice'])"
   ]
  },
  {
   "cell_type": "code",
   "execution_count": 74,
   "metadata": {},
   "outputs": [
    {
     "name": "stdout",
     "output_type": "stream",
     "text": [
      "this will last at most gh days\n"
     ]
    }
   ],
   "source": [
    "days='gh'\n",
    "s=\"this will last at most %s days\"%(days)\n",
    "print(s)"
   ]
  },
  {
   "cell_type": "code",
   "execution_count": 27,
   "metadata": {},
   "outputs": [
    {
     "name": "stdout",
     "output_type": "stream",
     "text": [
      "this will last at most{days}days\n"
     ]
    }
   ],
   "source": [
    "days=10\n",
    "s=\"this will last at most{days}days\"\n",
    "print(s)"
   ]
  },
  {
   "cell_type": "code",
   "execution_count": 28,
   "metadata": {},
   "outputs": [],
   "source": [
    "# string types\n",
    "# -ordinary string\n",
    "#-F-string\n",
    "#-Raw-string     r'this is a \\n raw string'\n",
    "#-byte string   b'this is a byte string'"
   ]
  },
  {
   "cell_type": "code",
   "execution_count": 75,
   "metadata": {},
   "outputs": [
    {
     "name": "stdout",
     "output_type": "stream",
     "text": [
      "this will last at most 5 days  in 5 and extra 10\n"
     ]
    }
   ],
   "source": [
    "s=\"this will last at most {1} days  in {1} and extra {0}\"\n",
    "days=10\n",
    "extra=5\n",
    "s=s.format(days ,extra)\n",
    "print(s)"
   ]
  },
  {
   "cell_type": "code",
   "execution_count": 87,
   "metadata": {},
   "outputs": [
    {
     "name": "stdout",
     "output_type": "stream",
     "text": [
      "[2, 6, 4, 50, 50, 50, 100, 50, 2, 4, 100, 50, 2, 4, 100, 50, 2, 4, 100, 50, 100, 'b', 'a', 50, 100, 4, 2, 50, 100, 4, 2, 50, 100, 100, 100, 4, 2, 50, 4, 100, 2]\n",
      "[2, 6, 4, 50, 50, 50, 100, 50, 2, 4, 100, 50, 2, 4, 100, 50, 2, 4, 100, 50, 100, 'b', 'a', 50, 100, 4, 2, 50, 100, 4, 2, 50, 100, 100, 100, 4, 2, 50, 4, 100, 2, 50]\n",
      "12\n",
      "[2, 6, 4, 50, 50, 50, 100, 50, 2, 4, 100, 50, 2, 4, 100, 50, 2, 4, 100, 50, 100, 'b', 'a', 50, 100, 4, 2, 50, 100, 4, 2, 50, 100, 100, 100, 4, 2, 50, 4, 100, 2, 50]\n",
      "[2, 6, 4, 50, 50, 50, 100, 50, 2, 4, 100, 50, 2, 4, 100, 50, 2, 4, 100, 50, 100, 'b', 'a', 50, 100, 4, 2, 50, 100, 4, 2, 50, 100, 100, 100, 4, 2, 50, 4, 100, 2, 50, 4, 6, 2, 3]\n",
      "[2, 6, 4, 50, 50, 50, 100, 50, 2, 4, 100, 50, 2, 4, 100, 50, 2, 4, 100, 50, 100, 'b', 'a', 50, 100, 4, 2, 50, 100, 4, 2, 50, 100, 100, 100, 4, 2, 50, 4, 100, 2, 50, 4, 6, 2, 3]\n",
      "[2, 6, 100, 4, 50, 50, 50, 100, 50, 2, 4, 100, 50, 2, 4, 100, 50, 2, 4, 100, 50, 100, 'b', 'a', 50, 100, 4, 2, 50, 100, 4, 2, 50, 100, 100, 100, 4, 2, 50, 4, 100, 2, 50, 4, 6, 2, 3]\n",
      "6\n",
      "[2, 100, 4, 50, 50, 50, 100, 50, 2, 4, 100, 50, 2, 4, 100, 50, 2, 4, 100, 50, 100, 'b', 'a', 50, 100, 4, 2, 50, 100, 4, 2, 50, 100, 100, 100, 4, 2, 50, 4, 100, 2, 50, 4, 6, 2, 3]\n",
      "[2, 100, 4, 50, 50, 50, 100, 50, 2, 4, 100, 50, 2, 4, 100, 50, 2, 4, 100, 50, 100, 'b', 'a', 50, 100, 4, 2, 50, 100, 4, 2, 50, 100, 100, 100, 4, 2, 50, 4, 100, 2, 50, 4, 2, 3]\n",
      "[3, 2, 4, 50, 2, 100, 4, 50, 2, 4, 100, 100, 100, 50, 2, 4, 100, 50, 2, 4, 100, 50, 'a', 'b', 100, 50, 100, 4, 2, 50, 100, 4, 2, 50, 100, 4, 2, 50, 100, 50, 50, 50, 4, 100, 2]\n"
     ]
    }
   ],
   "source": [
    "# List Functions\n",
    "print(e)\n",
    "e.append(50); print(e)\n",
    "print(e.count(50))\n",
    "print(e)\n",
    "e.extend([4,6,2,3]); print(e)\n",
    "print(e)\n",
    "e.insert(2,100); print(e)\n",
    "print(e.pop(1)); print(e)\n",
    "e.remove(6); print(e)\n",
    "e.reverse(); print(e)\n",
    "#e.sort(); print(e)\n",
    "\n",
    "\n",
    "e1=e.copy()\n",
    "e2=e"
   ]
  },
  {
   "cell_type": "code",
   "execution_count": 32,
   "metadata": {},
   "outputs": [
    {
     "name": "stdout",
     "output_type": "stream",
     "text": [
      "(3, 6, 2)\n",
      "0\n",
      "1\n"
     ]
    }
   ],
   "source": [
    "# tuple function\n",
    "f=(3,6,2)\n",
    "print(f)\n",
    "print(f.index(3))\n",
    "print(f.count(3))"
   ]
  },
  {
   "cell_type": "code",
   "execution_count": 35,
   "metadata": {},
   "outputs": [
    {
     "name": "stdout",
     "output_type": "stream",
     "text": [
      "{'a': [45, 6], 'b': [1, 6, 2]}\n",
      "dict_keys(['a', 'b'])\n",
      "dict_values([[45, 6], [1, 6, 2]])\n",
      "[45, 6]\n",
      "[1, 6, 2]\n",
      "{'a': [45, 6]}\n"
     ]
    }
   ],
   "source": [
    "# dictionary\n",
    "g={'a':[45,6],'b':[1,6,2]}\n",
    "print(g)\n",
    "print(g.keys())\n",
    "print(g.values())\n",
    "print(g.get('a'))\n",
    "print(g.pop('b')); print(g)"
   ]
  },
  {
   "cell_type": "code",
   "execution_count": 89,
   "metadata": {},
   "outputs": [
    {
     "name": "stdout",
     "output_type": "stream",
     "text": [
      "{2, 50, 5}\n",
      "{2, 50, 5, 55}\n",
      "2\n",
      "{50, 5, 55}\n",
      "{5, 55}\n",
      "{20, 5, 55, 40, 10, 30}\n"
     ]
    }
   ],
   "source": [
    "# set function \n",
    "h={2,50,5}\n",
    "print(h)\n",
    "h.add(55); print(h)\n",
    "#print(h.difference({2,10}))\n",
    "#print(h.intersection({2,10}))\n",
    "print(h.pop()); print(h)\n",
    "h.remove(50); print(h)\n",
    "print(h.union({10,20,30,40}))"
   ]
  },
  {
   "cell_type": "code",
   "execution_count": 91,
   "metadata": {},
   "outputs": [
    {
     "data": {
      "text/plain": [
       "10.0"
      ]
     },
     "execution_count": 91,
     "metadata": {},
     "output_type": "execute_result"
    }
   ],
   "source": [
    "# type conversion \n",
    "a=10\n",
    "float(a)"
   ]
  },
  {
   "cell_type": "code",
   "execution_count": 92,
   "metadata": {},
   "outputs": [
    {
     "data": {
      "text/plain": [
       "'10'"
      ]
     },
     "execution_count": 92,
     "metadata": {},
     "output_type": "execute_result"
    }
   ],
   "source": [
    "str(a)"
   ]
  },
  {
   "cell_type": "code",
   "execution_count": 107,
   "metadata": {},
   "outputs": [
    {
     "data": {
      "text/plain": [
       "3000"
      ]
     },
     "execution_count": 107,
     "metadata": {},
     "output_type": "execute_result"
    }
   ],
   "source": [
    "int('3000')"
   ]
  },
  {
   "cell_type": "code",
   "execution_count": 108,
   "metadata": {},
   "outputs": [
    {
     "data": {
      "text/plain": [
       "30"
      ]
     },
     "execution_count": 108,
     "metadata": {},
     "output_type": "execute_result"
    }
   ],
   "source": [
    "int(float(30.4))"
   ]
  },
  {
   "cell_type": "code",
   "execution_count": 109,
   "metadata": {},
   "outputs": [
    {
     "data": {
      "text/plain": [
       "56"
      ]
     },
     "execution_count": 109,
     "metadata": {},
     "output_type": "execute_result"
    }
   ],
   "source": [
    "eval('56')"
   ]
  },
  {
   "cell_type": "code",
   "execution_count": 114,
   "metadata": {},
   "outputs": [
    {
     "data": {
      "text/plain": [
       "[' ', 'H', 'e', 'l', 'l', ' ', 'l', 'o', 'w', ' ']"
      ]
     },
     "execution_count": 114,
     "metadata": {},
     "output_type": "execute_result"
    }
   ],
   "source": [
    "list(d)\n"
   ]
  },
  {
   "cell_type": "code",
   "execution_count": 115,
   "metadata": {},
   "outputs": [
    {
     "data": {
      "text/plain": [
       "(' ', 'H', 'e', 'l', 'l', ' ', 'l', 'o', 'w', ' ')"
      ]
     },
     "execution_count": 115,
     "metadata": {},
     "output_type": "execute_result"
    }
   ],
   "source": [
    "tuple(d)"
   ]
  },
  {
   "cell_type": "code",
   "execution_count": 118,
   "metadata": {},
   "outputs": [
    {
     "data": {
      "text/plain": [
       "\"[3, 2, 4, 50, 2, 100, 4, 50, 2, 4, 100, 100, 100, 50, 2, 4, 100, 50, 2, 4, 100, 50, 'a', 'b', 100, 50, 100, 4, 2, 50, 100, 4, 2, 50, 100, 4, 2, 50, 100, 50, 50, 50, 4, 100, 2]\""
      ]
     },
     "execution_count": 118,
     "metadata": {},
     "output_type": "execute_result"
    }
   ],
   "source": [
    "str(e)"
   ]
  },
  {
   "cell_type": "code",
   "execution_count": 119,
   "metadata": {},
   "outputs": [
    {
     "data": {
      "text/plain": [
       "{'b': [3,\n",
       "  2,\n",
       "  4,\n",
       "  50,\n",
       "  2,\n",
       "  100,\n",
       "  4,\n",
       "  50,\n",
       "  2,\n",
       "  4,\n",
       "  100,\n",
       "  100,\n",
       "  100,\n",
       "  50,\n",
       "  2,\n",
       "  4,\n",
       "  100,\n",
       "  50,\n",
       "  2,\n",
       "  4,\n",
       "  100,\n",
       "  50,\n",
       "  'a',\n",
       "  'b',\n",
       "  100,\n",
       "  50,\n",
       "  100,\n",
       "  4,\n",
       "  2,\n",
       "  50,\n",
       "  100,\n",
       "  4,\n",
       "  2,\n",
       "  50,\n",
       "  100,\n",
       "  4,\n",
       "  2,\n",
       "  50,\n",
       "  100,\n",
       "  50,\n",
       "  50,\n",
       "  50,\n",
       "  4,\n",
       "  100,\n",
       "  2]}"
      ]
     },
     "execution_count": 119,
     "metadata": {},
     "output_type": "execute_result"
    }
   ],
   "source": [
    "dict(b=e)"
   ]
  },
  {
   "cell_type": "code",
   "execution_count": 120,
   "metadata": {},
   "outputs": [
    {
     "data": {
      "text/plain": [
       "{100, 2, 3, 4, 50, 'a', 'b'}"
      ]
     },
     "execution_count": 120,
     "metadata": {},
     "output_type": "execute_result"
    }
   ],
   "source": [
    "set(e)"
   ]
  },
  {
   "cell_type": "code",
   "execution_count": 121,
   "metadata": {},
   "outputs": [
    {
     "data": {
      "text/plain": [
       "([3,\n",
       "  2,\n",
       "  4,\n",
       "  50,\n",
       "  2,\n",
       "  100,\n",
       "  4,\n",
       "  50,\n",
       "  2,\n",
       "  4,\n",
       "  100,\n",
       "  100,\n",
       "  100,\n",
       "  50,\n",
       "  2,\n",
       "  4,\n",
       "  100,\n",
       "  50,\n",
       "  2,\n",
       "  4,\n",
       "  100,\n",
       "  50,\n",
       "  'a',\n",
       "  'b',\n",
       "  100,\n",
       "  50,\n",
       "  100,\n",
       "  4,\n",
       "  2,\n",
       "  50,\n",
       "  100,\n",
       "  4,\n",
       "  2,\n",
       "  50,\n",
       "  100,\n",
       "  4,\n",
       "  2,\n",
       "  50,\n",
       "  100,\n",
       "  50,\n",
       "  50,\n",
       "  50,\n",
       "  4,\n",
       "  100,\n",
       "  2],\n",
       " [3,\n",
       "  2,\n",
       "  4,\n",
       "  50,\n",
       "  2,\n",
       "  100,\n",
       "  4,\n",
       "  50,\n",
       "  2,\n",
       "  4,\n",
       "  100,\n",
       "  100,\n",
       "  100,\n",
       "  50,\n",
       "  2,\n",
       "  4,\n",
       "  100,\n",
       "  50,\n",
       "  2,\n",
       "  4,\n",
       "  100,\n",
       "  50,\n",
       "  'a',\n",
       "  'b',\n",
       "  100,\n",
       "  50,\n",
       "  100,\n",
       "  4,\n",
       "  2,\n",
       "  50,\n",
       "  100,\n",
       "  4,\n",
       "  2,\n",
       "  50,\n",
       "  100,\n",
       "  4,\n",
       "  2,\n",
       "  50,\n",
       "  100,\n",
       "  50,\n",
       "  50,\n",
       "  50,\n",
       "  4,\n",
       "  100,\n",
       "  2])"
      ]
     },
     "execution_count": 121,
     "metadata": {},
     "output_type": "execute_result"
    }
   ],
   "source": [
    "e1,e2"
   ]
  },
  {
   "cell_type": "code",
   "execution_count": 122,
   "metadata": {},
   "outputs": [
    {
     "data": {
      "text/plain": [
       "[[3,\n",
       "  2,\n",
       "  4,\n",
       "  50,\n",
       "  2,\n",
       "  100,\n",
       "  4,\n",
       "  50,\n",
       "  2,\n",
       "  4,\n",
       "  100,\n",
       "  100,\n",
       "  100,\n",
       "  50,\n",
       "  2,\n",
       "  4,\n",
       "  100,\n",
       "  50,\n",
       "  2,\n",
       "  4,\n",
       "  100,\n",
       "  50,\n",
       "  'a',\n",
       "  'b',\n",
       "  100,\n",
       "  50,\n",
       "  100,\n",
       "  4,\n",
       "  2,\n",
       "  50,\n",
       "  100,\n",
       "  4,\n",
       "  2,\n",
       "  50,\n",
       "  100,\n",
       "  4,\n",
       "  2,\n",
       "  50,\n",
       "  100,\n",
       "  50,\n",
       "  50,\n",
       "  50,\n",
       "  4,\n",
       "  100,\n",
       "  2],\n",
       " [3,\n",
       "  2,\n",
       "  4,\n",
       "  50,\n",
       "  2,\n",
       "  100,\n",
       "  4,\n",
       "  50,\n",
       "  2,\n",
       "  4,\n",
       "  100,\n",
       "  100,\n",
       "  100,\n",
       "  50,\n",
       "  2,\n",
       "  4,\n",
       "  100,\n",
       "  50,\n",
       "  2,\n",
       "  4,\n",
       "  100,\n",
       "  50,\n",
       "  'a',\n",
       "  'b',\n",
       "  100,\n",
       "  50,\n",
       "  100,\n",
       "  4,\n",
       "  2,\n",
       "  50,\n",
       "  100,\n",
       "  4,\n",
       "  2,\n",
       "  50,\n",
       "  100,\n",
       "  4,\n",
       "  2,\n",
       "  50,\n",
       "  100,\n",
       "  50,\n",
       "  50,\n",
       "  50,\n",
       "  4,\n",
       "  100,\n",
       "  2]]"
      ]
     },
     "execution_count": 122,
     "metadata": {},
     "output_type": "execute_result"
    }
   ],
   "source": [
    "[e1,e2]"
   ]
  },
  {
   "cell_type": "code",
   "execution_count": 128,
   "metadata": {},
   "outputs": [
    {
     "data": {
      "text/plain": [
       "[1, 2, 3, 3, 6, 9]"
      ]
     },
     "execution_count": 128,
     "metadata": {},
     "output_type": "execute_result"
    }
   ],
   "source": [
    "z = [1,2,3]\n",
    "c=[3,6,9]\n",
    "[*z,*c]"
   ]
  },
  {
   "cell_type": "code",
   "execution_count": 129,
   "metadata": {},
   "outputs": [],
   "source": [
    "g1={'a':4,'b':[5,6]}\n",
    "g2={'c':34,'a':'hi'}"
   ]
  },
  {
   "cell_type": "code",
   "execution_count": 130,
   "metadata": {},
   "outputs": [
    {
     "data": {
      "text/plain": [
       "{'a': 'hi', 'b': [5, 6], 'c': 34}"
      ]
     },
     "execution_count": 130,
     "metadata": {},
     "output_type": "execute_result"
    }
   ],
   "source": [
    "g1.update(g2)\n",
    "g1"
   ]
  },
  {
   "cell_type": "code",
   "execution_count": 133,
   "metadata": {},
   "outputs": [
    {
     "data": {
      "text/plain": [
       "{'a': 'hi', 'b': [5, 6], 'c': 34}"
      ]
     },
     "execution_count": 133,
     "metadata": {},
     "output_type": "execute_result"
    }
   ],
   "source": [
    "{**g1,**g2}"
   ]
  },
  {
   "cell_type": "code",
   "execution_count": null,
   "metadata": {},
   "outputs": [],
   "source": [
    "# control statment\n",
    "# 1 conditional - if-elif-else (pass)\n",
    "# 2  loop while-else  (continue ,break)\n",
    "#   for-else\n",
    "# 3 erroe control  --  try-except-else-finally    \n",
    "\n",
    "\n",
    "\n",
    "# Suites \n",
    "\n",
    "#statement1:\n",
    "#   expr1\n",
    "#   expr2\n",
    "#statement2:\n",
    "#    expr3\n",
    "#    expr4\n",
    "#    statement3:\n",
    "#         expr5\n",
    "#    expr6\n",
    "#expr7 "
   ]
  },
  {
   "cell_type": "code",
   "execution_count": 136,
   "metadata": {},
   "outputs": [
    {
     "name": "stdout",
     "output_type": "stream",
     "text": [
      "3 30\n",
      "3 30\n",
      "3 30\n",
      "3 30\n"
     ]
    }
   ],
   "source": [
    "#for(int i=0; i<10; i++){\n",
    "#    do something\n",
    "#}\n",
    "#arr[3,5,6,78]\n",
    "#foreach(bvar v in arr){\n",
    "#    v\n",
    "#}\n",
    "a=[3,5,6,3]\n",
    "for c in a:\n",
    "    print(i,i*10)"
   ]
  },
  {
   "cell_type": "code",
   "execution_count": 145,
   "metadata": {},
   "outputs": [
    {
     "name": "stdout",
     "output_type": "stream",
     "text": [
      "2\n",
      "4\n",
      "6\n",
      "8\n",
      "10\n",
      "12\n",
      "14\n",
      "16\n",
      "18\n",
      "20\n"
     ]
    }
   ],
   "source": [
    "table=[1,2,3,4,5,6,7,8,9,10]\n",
    "num=2\n",
    "for i in table:\n",
    "    print(num*i)"
   ]
  },
  {
   "cell_type": "code",
   "execution_count": 162,
   "metadata": {},
   "outputs": [
    {
     "data": {
      "text/plain": [
       "[0, 1, 2, 3, 4, 5, 6, 7, 8, 9]"
      ]
     },
     "execution_count": 162,
     "metadata": {},
     "output_type": "execute_result"
    }
   ],
   "source": [
    "list (range(10))"
   ]
  },
  {
   "cell_type": "code",
   "execution_count": 154,
   "metadata": {},
   "outputs": [
    {
     "name": "stdout",
     "output_type": "stream",
     "text": [
      "$\n",
      "$$\n",
      "$$$\n",
      "$$$$\n",
      "$$$$$\n"
     ]
    }
   ],
   "source": [
    "for i in range(1,6):\n",
    "    print(i*'$') "
   ]
  },
  {
   "cell_type": "code",
   "execution_count": 155,
   "metadata": {},
   "outputs": [],
   "source": [
    "# Comprehensions\n",
    "#Conditional (not really a comprehension thouhgt)\n",
    "# list \n",
    "#dist \n",
    "#set\n",
    "#genreter\n",
    "\n",
    "a=[3,5,3,8,5,9,10]"
   ]
  },
  {
   "cell_type": "code",
   "execution_count": 175,
   "metadata": {},
   "outputs": [
    {
     "ename": "TypeError",
     "evalue": "'builtin_function_or_method' object is not subscriptable",
     "output_type": "error",
     "traceback": [
      "\u001b[1;31m---------------------------------------------------------------------------\u001b[0m",
      "\u001b[1;31mTypeError\u001b[0m                                 Traceback (most recent call last)",
      "\u001b[1;32mc:\\Users\\Lenovo\\Desktop\\python AIDP\\day1,2,3.ipynb Cell 110\u001b[0m in \u001b[0;36m<cell line: 2>\u001b[1;34m()\u001b[0m\n\u001b[0;32m      <a href='vscode-notebook-cell:/c%3A/Users/Lenovo/Desktop/python%20AIDP/day1%2C2%2C3.ipynb#Y213sZmlsZQ%3D%3D?line=0'>1</a>\u001b[0m b\u001b[39m=\u001b[39m[]\n\u001b[0;32m      <a href='vscode-notebook-cell:/c%3A/Users/Lenovo/Desktop/python%20AIDP/day1%2C2%2C3.ipynb#Y213sZmlsZQ%3D%3D?line=1'>2</a>\u001b[0m \u001b[39mfor\u001b[39;00m i \u001b[39min\u001b[39;00m a:\n\u001b[1;32m----> <a href='vscode-notebook-cell:/c%3A/Users/Lenovo/Desktop/python%20AIDP/day1%2C2%2C3.ipynb#Y213sZmlsZQ%3D%3D?line=2'>3</a>\u001b[0m     b\u001b[39m.\u001b[39;49mappend[i\u001b[39m*\u001b[39;49m\u001b[39m2\u001b[39;49m]\n\u001b[0;32m      <a href='vscode-notebook-cell:/c%3A/Users/Lenovo/Desktop/python%20AIDP/day1%2C2%2C3.ipynb#Y213sZmlsZQ%3D%3D?line=3'>4</a>\u001b[0m     b \u001b[39m=\u001b[39m b \u001b[39m+\u001b[39m [i\u001b[39m*\u001b[39m\u001b[39m2\u001b[39m]\n\u001b[0;32m      <a href='vscode-notebook-cell:/c%3A/Users/Lenovo/Desktop/python%20AIDP/day1%2C2%2C3.ipynb#Y213sZmlsZQ%3D%3D?line=4'>5</a>\u001b[0m \u001b[39mprint\u001b[39m(b)\n",
      "\u001b[1;31mTypeError\u001b[0m: 'builtin_function_or_method' object is not subscriptable"
     ]
    }
   ],
   "source": [
    "b=[]\n",
    "for i in a:\n",
    "   # b.append[i*2]\n",
    "    b = b + [i*2]\n",
    "print(b)\n"
   ]
  },
  {
   "cell_type": "code",
   "execution_count": 169,
   "metadata": {},
   "outputs": [
    {
     "name": "stdout",
     "output_type": "stream",
     "text": [
      "[6, 10, 6, 16, 10, 18, 20]\n"
     ]
    }
   ],
   "source": [
    "b1=[i*2 for i in a]\n",
    "print(b1)"
   ]
  },
  {
   "cell_type": "code",
   "execution_count": 178,
   "metadata": {},
   "outputs": [
    {
     "name": "stdout",
     "output_type": "stream",
     "text": [
      "[3, 5, 3, 5, 9]\n"
     ]
    }
   ],
   "source": [
    "b2=[i for i in a if i%2 == 1]\n",
    "print(b2)"
   ]
  },
  {
   "cell_type": "code",
   "execution_count": 180,
   "metadata": {},
   "outputs": [
    {
     "name": "stdout",
     "output_type": "stream",
     "text": [
      "Even\n"
     ]
    }
   ],
   "source": [
    "num=36\n",
    "print('odd') if num%2 else print('Even')"
   ]
  },
  {
   "cell_type": "code",
   "execution_count": 17,
   "metadata": {},
   "outputs": [
    {
     "name": "stdout",
     "output_type": "stream",
     "text": [
      "['3 Odd', '5 Odd', '3 Odd', '8 Even', '5 Odd', '9 Odd', '10 Even']\n"
     ]
    }
   ],
   "source": [
    "b3=[f'{i} Odd' if i%2 else f'{i} Even' for i in a]\n",
    "print(b3)"
   ]
  },
  {
   "cell_type": "code",
   "execution_count": 18,
   "metadata": {},
   "outputs": [
    {
     "data": {
      "text/plain": [
       "{3: 9, 5: 25, 8: 64, 9: 81, 10: 100}"
      ]
     },
     "execution_count": 18,
     "metadata": {},
     "output_type": "execute_result"
    }
   ],
   "source": [
    "{i:i**2 for i in a}"
   ]
  },
  {
   "cell_type": "code",
   "execution_count": 19,
   "metadata": {},
   "outputs": [
    {
     "data": {
      "text/plain": [
       "{9, 25, 64, 81, 100}"
      ]
     },
     "execution_count": 19,
     "metadata": {},
     "output_type": "execute_result"
    }
   ],
   "source": [
    "{i**2 for i in a}"
   ]
  },
  {
   "cell_type": "code",
   "execution_count": 183,
   "metadata": {},
   "outputs": [],
   "source": [
    "def abc1():\n",
    "    print('its no input no output func')\n",
    "\n",
    "def abc2(x):\n",
    "    print(f'its fetching x={x} but no output')\n",
    "\n",
    "def abc3():\n",
    "    return 'its a string returning from function as output'\n",
    "\n",
    "def abc4(x,y):\n",
    "    return x*2,y+x+y\n",
    "\n"
   ]
  },
  {
   "cell_type": "code",
   "execution_count": 184,
   "metadata": {},
   "outputs": [
    {
     "name": "stdout",
     "output_type": "stream",
     "text": [
      "its no input no output func\n",
      "None\n"
     ]
    }
   ],
   "source": [
    "a =abc1()\n",
    "print(a)"
   ]
  },
  {
   "cell_type": "code",
   "execution_count": 185,
   "metadata": {},
   "outputs": [
    {
     "name": "stdout",
     "output_type": "stream",
     "text": [
      "its a string returning from function as output\n"
     ]
    }
   ],
   "source": [
    "a3=abc3()\n",
    "print(a3)"
   ]
  },
  {
   "cell_type": "code",
   "execution_count": 186,
   "metadata": {},
   "outputs": [
    {
     "name": "stdout",
     "output_type": "stream",
     "text": [
      "its fetching x=4 but no output\n",
      "None\n"
     ]
    }
   ],
   "source": [
    "a2 = abc2(4)\n",
    "print(a2)"
   ]
  },
  {
   "cell_type": "code",
   "execution_count": 187,
   "metadata": {},
   "outputs": [
    {
     "name": "stdout",
     "output_type": "stream",
     "text": [
      "(4, 8)\n"
     ]
    }
   ],
   "source": [
    "a4=abc4(2,3)\n",
    "print(a4)"
   ]
  },
  {
   "cell_type": "code",
   "execution_count": 188,
   "metadata": {},
   "outputs": [
    {
     "name": "stdout",
     "output_type": "stream",
     "text": [
      "8\n",
      "16\n"
     ]
    }
   ],
   "source": [
    "a41,a42=abc4(4,6)\n",
    "print(a41); print(a42)"
   ]
  },
  {
   "cell_type": "code",
   "execution_count": 189,
   "metadata": {},
   "outputs": [
    {
     "data": {
      "text/plain": [
       "(16, 18)"
      ]
     },
     "execution_count": 189,
     "metadata": {},
     "output_type": "execute_result"
    }
   ],
   "source": [
    "abc4(y=5,x=8)"
   ]
  },
  {
   "cell_type": "code",
   "execution_count": 190,
   "metadata": {},
   "outputs": [
    {
     "data": {
      "text/plain": [
       "(8, 14)"
      ]
     },
     "execution_count": 190,
     "metadata": {},
     "output_type": "execute_result"
    }
   ],
   "source": [
    "abc4(4,y=5)"
   ]
  },
  {
   "cell_type": "code",
   "execution_count": 191,
   "metadata": {},
   "outputs": [
    {
     "data": {
      "text/plain": [
       "(10, 19)"
      ]
     },
     "execution_count": 191,
     "metadata": {},
     "output_type": "execute_result"
    }
   ],
   "source": [
    "#abc4(y=5,6)\n",
    "#abc4(5)\n",
    "#abc4(4,6,5)\n",
    "abc4(x=5,y=7)"
   ]
  },
  {
   "cell_type": "code",
   "execution_count": 195,
   "metadata": {},
   "outputs": [
    {
     "data": {
      "text/plain": [
       "(6, 3)"
      ]
     },
     "execution_count": 195,
     "metadata": {},
     "output_type": "execute_result"
    }
   ],
   "source": [
    " #default values to function args(can always start with right)\n",
    "def abc5(x,y=0):\n",
    "    return x*2, y+x+y\n",
    "\n",
    "abc5(3,0)"
   ]
  },
  {
   "cell_type": "code",
   "execution_count": 199,
   "metadata": {},
   "outputs": [],
   "source": [
    "# *args, **kwargs\n",
    "def abc6(x=1,y=0, *p, **q):\n",
    "    print(x*2,y+x+y)\n",
    "    print(p)\n",
    "    print(q)\n",
    "    print('')"
   ]
  },
  {
   "cell_type": "code",
   "execution_count": 200,
   "metadata": {},
   "outputs": [
    {
     "name": "stdout",
     "output_type": "stream",
     "text": [
      "2 1\n",
      "()\n",
      "{}\n",
      "\n",
      "10 13\n",
      "()\n",
      "{}\n",
      "\n",
      "10 13\n",
      "(9, 10, 34, 456, 'hi', 23)\n",
      "{}\n",
      "\n",
      "10 13\n",
      "(9, 10, 34, 456, 'hi')\n",
      "{'m': 23, 'n': [4, 7, 8]}\n",
      "\n",
      "10 13\n",
      "(9, 10, 456, 'hi', 23)\n",
      "{'q': {'x': [45, 6], 'z': 34}}\n",
      "\n"
     ]
    }
   ],
   "source": [
    "abc6()\n",
    "abc6(5,4)\n",
    "abc6(5,4,9,10,34,456,'hi',23)\n",
    "abc6(5,4,9,10,34,456,'hi',m=23,n=[4,7,8])\n",
    "abc6(5,4,9,10,456,'hi',23,q={'x':[45,6],'z':34})"
   ]
  },
  {
   "cell_type": "code",
   "execution_count": null,
   "metadata": {},
   "outputs": [],
   "source": []
  },
  {
   "cell_type": "code",
   "execution_count": null,
   "metadata": {},
   "outputs": [],
   "source": []
  }
 ],
 "metadata": {
  "kernelspec": {
   "display_name": "Python 3",
   "language": "python",
   "name": "python3"
  },
  "language_info": {
   "codemirror_mode": {
    "name": "ipython",
    "version": 3
   },
   "file_extension": ".py",
   "mimetype": "text/x-python",
   "name": "python",
   "nbconvert_exporter": "python",
   "pygments_lexer": "ipython3",
   "version": "3.10.5"
  },
  "orig_nbformat": 4
 },
 "nbformat": 4,
 "nbformat_minor": 2
}
