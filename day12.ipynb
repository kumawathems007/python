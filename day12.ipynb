{
 "cells": [
  {
   "cell_type": "code",
   "execution_count": 3,
   "metadata": {},
   "outputs": [],
   "source": [
    "# live image capturing\n",
    "import cv2\n",
    "import skimage as ski\n",
    "vid=cv2.VideoCapture(0)\n",
    "while True:\n",
    "    ack, img=vid.read()\n",
    "    if ack:\n",
    "        th, red_bw=cv2.threshold(cv2.subtract(img[:,:,-3], cv2.cvtColor(img, cv2.COLOR_BGR2GRAY)),50,255, cv2.THRESH_BINARY)\n",
    "        strel=cv2.getStructuringElement(cv2.MORPH_RECT,(20,20))\n",
    "        red_bw=cv2.morphologyEx(red_bw,cv2.MORPH_CLOSE,strel,iterations=1)\n",
    "        red_bw=ski.morphology.remove_small_objects(red_bw.astype(bool),300).astype('uint8')*255\n",
    "        red_bw=ski.morphology.remove_small_holes(red_bw.astype(bool),300).astype('uint8')*255\n",
    "        rps=ski.measure.regionprops( ski.measure.label(red_bw.astype(bool)) )\n",
    "        count=len(rps)\n",
    "        img_copy=img.copy()\n",
    "        cv2.putText(img_copy, str(count),(80,80),cv2.FONT_HERSHEY_PLAIN,5,(0,0,255),5)\n",
    "        for rp in rps:\n",
    "            y1,x1,y2,x2=rp.bbox\n",
    "            cv2.rectangle(img_copy, (x1,y1),(x2,y2),(0,0,255),thickness=5)\n",
    "        cv2.imshow('Preview',img_copy)# depends on requirement\n",
    "        key=cv2.waitKey(1)\n",
    "        if key==ord('x'):\n",
    "            break\n",
    "cv2.destroyAllWindows();\n",
    "cv2.waitKey(0)      \n",
    "vid.release()  "
   ]
  },
  {
   "cell_type": "code",
   "execution_count": 2,
   "metadata": {},
   "outputs": [],
   "source": [
    "# face detection - viola-jones algo (Haarcascade features)\n",
    "import cv2\n",
    "fd=cv2.CascadeClassifier(cv2.data.haarcascades + 'haarcascade_frontalface_default.xml')\n",
    "import skimage as ski\n",
    "vid=cv2.VideoCapture(0)\n",
    "while True:\n",
    "    ack, img=vid.read()\n",
    "    if ack:\n",
    "        faces = fd.detectMultiScale(img,1.2,10)\n",
    "        for x,y,w,h in faces:\n",
    "            cv2.rectangle(img,(x,y),(x+w,y+h),(0,0,155),5)\n",
    "         \n",
    "        cv2.imshow('Preview',img)# depends on requirement\n",
    "        key=cv2.waitKey(1)\n",
    "        if key==ord('x'):\n",
    "            break\n",
    "cv2.destroyAllWindows();\n",
    "cv2.waitKey(0)      \n",
    "vid.release()  "
   ]
  },
  {
   "cell_type": "code",
   "execution_count": 12,
   "metadata": {},
   "outputs": [],
   "source": [
    "# face detection and save imade in pc\n",
    "import cv2\n",
    "fd=cv2.CascadeClassifier(cv2.data.haarcascades + 'haarcascade_frontalface_default.xml')\n",
    "import skimage as ski\n",
    "vid=cv2.VideoCapture(0)\n",
    "counter=0\n",
    "while True:\n",
    "    ack, img=vid.read()\n",
    "    if ack:\n",
    "        faces = fd.detectMultiScale(img,1.2,10)\n",
    "        if len(faces)==1:\n",
    "           counter+=1\n",
    "           for x,y,w,h in faces:\n",
    "              cv2.rectangle(img,(x,y),(x+w,y+h),(255,255,255),10)\n",
    "           face_img=img[y:y+h, x:x+w,:].copy()\n",
    "           cv2.imwrite(r'my_faces/Hemrajmy_face_{0}.png'.format(counter),face_img)  \n",
    "         \n",
    "        cv2.imshow('Preview',img)# depends on requirement\n",
    "        key=cv2.waitKey(1)\n",
    "        if key==ord('x'):\n",
    "            break\n",
    "cv2.destroyAllWindows();\n",
    "cv2.waitKey(0)      \n",
    "vid.release()  "
   ]
  },
  {
   "cell_type": "code",
   "execution_count": null,
   "metadata": {},
   "outputs": [],
   "source": []
  },
  {
   "cell_type": "code",
   "execution_count": null,
   "metadata": {},
   "outputs": [],
   "source": []
  }
 ],
 "metadata": {
  "kernelspec": {
   "display_name": "Python 3",
   "language": "python",
   "name": "python3"
  },
  "language_info": {
   "codemirror_mode": {
    "name": "ipython",
    "version": 3
   },
   "file_extension": ".py",
   "mimetype": "text/x-python",
   "name": "python",
   "nbconvert_exporter": "python",
   "pygments_lexer": "ipython3",
   "version": "3.10.5"
  },
  "orig_nbformat": 4
 },
 "nbformat": 4,
 "nbformat_minor": 2
}
