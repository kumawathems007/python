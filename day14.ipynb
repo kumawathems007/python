{
 "cells": [
  {
   "cell_type": "code",
   "execution_count": 6,
   "metadata": {},
   "outputs": [],
   "source": [
    "import cv2\n",
    "import matplotlib.pyplot as plt"
   ]
  },
  {
   "cell_type": "code",
   "execution_count": 7,
   "metadata": {},
   "outputs": [
    {
     "data": {
      "text/plain": [
       "array([[[255, 250, 242],\n",
       "        [255, 250, 242],\n",
       "        [255, 250, 242],\n",
       "        ...,\n",
       "        [253, 245, 241],\n",
       "        [253, 245, 241],\n",
       "        [253, 245, 241]],\n",
       "\n",
       "       [[255, 250, 242],\n",
       "        [255, 250, 242],\n",
       "        [255, 250, 242],\n",
       "        ...,\n",
       "        [253, 245, 241],\n",
       "        [253, 245, 241],\n",
       "        [253, 245, 241]],\n",
       "\n",
       "       [[255, 250, 242],\n",
       "        [255, 250, 242],\n",
       "        [255, 250, 242],\n",
       "        ...,\n",
       "        [253, 245, 241],\n",
       "        [253, 245, 241],\n",
       "        [253, 245, 241]],\n",
       "\n",
       "       ...,\n",
       "\n",
       "       [[ 94, 114, 141],\n",
       "        [ 94, 114, 141],\n",
       "        [ 95, 116, 142],\n",
       "        ...,\n",
       "        [153, 166, 189],\n",
       "        [154, 167, 190],\n",
       "        [154, 167, 190]],\n",
       "\n",
       "       [[ 94, 114, 141],\n",
       "        [ 94, 114, 141],\n",
       "        [ 95, 116, 142],\n",
       "        ...,\n",
       "        [152, 165, 188],\n",
       "        [152, 165, 188],\n",
       "        [152, 165, 188]],\n",
       "\n",
       "       [[ 94, 114, 141],\n",
       "        [ 94, 114, 141],\n",
       "        [ 95, 116, 142],\n",
       "        ...,\n",
       "        [151, 163, 186],\n",
       "        [151, 163, 186],\n",
       "        [151, 163, 186]]], dtype=uint8)"
      ]
     },
     "execution_count": 7,
     "metadata": {},
     "output_type": "execute_result"
    }
   ],
   "source": [
    "img1=cv2.imread('robot.jpeg')\n",
    "img1"
   ]
  },
  {
   "cell_type": "code",
   "execution_count": 5,
   "metadata": {},
   "outputs": [
    {
     "name": "stdout",
     "output_type": "stream",
     "text": [
      "^C\n"
     ]
    },
    {
     "name": "stderr",
     "output_type": "stream",
     "text": [
      "ERROR: Could not install packages due to an OSError: [WinError 5] Access is denied: 'c:\\\\Users\\\\Lenovo\\\\AppData\\\\Local\\\\Programs\\\\Python\\\\Python310\\\\Lib\\\\site-packages\\\\cv2\\\\cv2.pyd'\n",
      "Consider using the `--user` option or check the permissions.\n",
      "\n"
     ]
    },
    {
     "name": "stdout",
     "output_type": "stream",
     "text": [
      "Collecting opencv-contrib-python\n",
      "  Obtaining dependency information for opencv-contrib-python from https://files.pythonhosted.org/packages/05/33/5a6436146bda09c69decc456cfb54f41d52fbcf558fe91e6df7bdde6cce0/opencv_contrib_python-4.8.0.76-cp37-abi3-win_amd64.whl.metadata\n",
      "  Downloading opencv_contrib_python-4.8.0.76-cp37-abi3-win_amd64.whl.metadata (20 kB)\n",
      "Requirement already satisfied: numpy>=1.21.2 in c:\\users\\lenovo\\appdata\\local\\programs\\python\\python310\\lib\\site-packages (from opencv-contrib-python) (1.23.1)\n",
      "Downloading opencv_contrib_python-4.8.0.76-cp37-abi3-win_amd64.whl (44.8 MB)\n",
      "   ---------------------------------------- 44.8/44.8 MB 89.3 kB/s eta 0:00:00\n",
      "Installing collected packages: opencv-contrib-python\n"
     ]
    }
   ],
   "source": []
  },
  {
   "cell_type": "code",
   "execution_count": null,
   "metadata": {},
   "outputs": [],
   "source": []
  }
 ],
 "metadata": {
  "kernelspec": {
   "display_name": "Python 3",
   "language": "python",
   "name": "python3"
  },
  "language_info": {
   "codemirror_mode": {
    "name": "ipython",
    "version": 3
   },
   "file_extension": ".py",
   "mimetype": "text/x-python",
   "name": "python",
   "nbconvert_exporter": "python",
   "pygments_lexer": "ipython3",
   "version": "3.10.5"
  },
  "orig_nbformat": 4
 },
 "nbformat": 4,
 "nbformat_minor": 2
}
