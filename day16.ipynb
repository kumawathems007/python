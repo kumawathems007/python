{
 "cells": [
  {
   "cell_type": "code",
   "execution_count": 15,
   "metadata": {},
   "outputs": [],
   "source": [
    "# GUI for face recognition\n",
    "\n",
    "import tkinter as ttk\n",
    "from tkinter import font\n",
    "app=ttk.Tk()\n",
    "app.title('Attendance System')\n",
    "app.geometry('600x400')\n",
    "\n",
    "font_= font.Font(size=15)\n",
    "\n",
    "ttk.Label(app,text='Face Recognition based Attendance System',).pack()\n",
    "\n",
    "def register():\n",
    "    print('Attendance')\n",
    "\n",
    "def attendance():\n",
    "    print('Attendance')\n",
    "\n",
    "def clear_data():\n",
    "    print('Clear all previous data')\n",
    "\n",
    "ttk.Button(app, text='Register',command=register, font=font_,height=3, width=15, bg='red').place(x=50,y=550)    \n",
    "ttk.Button(app, text='Attendance',command=attendance, font=font_,height=3, width=15, bg='#0033ff').place(x=600,y=550)\n",
    "ttk.Button(app, text='Clear Data',command=clear_data, font=font_,height=3, width=15, bg='red').place(x=1100,y=550)         \n",
    "\n",
    "app.mainloop()"
   ]
  },
  {
   "cell_type": "code",
   "execution_count": null,
   "metadata": {},
   "outputs": [],
   "source": []
  },
  {
   "cell_type": "code",
   "execution_count": null,
   "metadata": {},
   "outputs": [],
   "source": []
  }
 ],
 "metadata": {
  "kernelspec": {
   "display_name": "Python 3",
   "language": "python",
   "name": "python3"
  },
  "language_info": {
   "codemirror_mode": {
    "name": "ipython",
    "version": 3
   },
   "file_extension": ".py",
   "mimetype": "text/x-python",
   "name": "python",
   "nbconvert_exporter": "python",
   "pygments_lexer": "ipython3",
   "version": "3.10.5"
  },
  "orig_nbformat": 4
 },
 "nbformat": 4,
 "nbformat_minor": 2
}
