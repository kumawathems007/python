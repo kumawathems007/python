{
 "cells": [
  {
   "cell_type": "code",
   "execution_count": null,
   "metadata": {},
   "outputs": [],
   "source": [
    "# Error & Exception Handling\n",
    "## Try-except-else-finally\n",
    "### Built-in Exceptions"
   ]
  },
  {
   "cell_type": "code",
   "execution_count": 7,
   "metadata": {},
   "outputs": [
    {
     "name": "stdout",
     "output_type": "stream",
     "text": [
      "Marte marte raaz batake jaaunga\n"
     ]
    },
    {
     "ename": "ZeroDivisionError",
     "evalue": "division by zero",
     "output_type": "error",
     "traceback": [
      "\u001b[1;31m---------------------------------------------------------------------------\u001b[0m",
      "\u001b[1;31mZeroDivisionError\u001b[0m                         Traceback (most recent call last)",
      "Cell \u001b[1;32mIn[7], line 4\u001b[0m\n\u001b[0;32m      2\u001b[0m     a\u001b[39m=\u001b[39m\u001b[39m10\u001b[39m\n\u001b[0;32m      3\u001b[0m     b\u001b[39m=\u001b[39m\u001b[39mint\u001b[39m(\u001b[39minput\u001b[39m(\u001b[39m'\u001b[39m\u001b[39mEnter the number:\u001b[39m\u001b[39m'\u001b[39m))\n\u001b[1;32m----> 4\u001b[0m     \u001b[39mprint\u001b[39m(a\u001b[39m/\u001b[39;49mb)\n\u001b[0;32m      5\u001b[0m \u001b[39mexcept\u001b[39;00m \u001b[39mValueError\u001b[39;00m \u001b[39mas\u001b[39;00m err:\n\u001b[0;32m      6\u001b[0m     \u001b[39mprint\u001b[39m(err,b)\n",
      "\u001b[1;31mZeroDivisionError\u001b[0m: division by zero"
     ]
    }
   ],
   "source": [
    "try:\n",
    "    a=10\n",
    "    b=int(input('Enter the number:'))\n",
    "    print(a/b)\n",
    "except ValueError as err:\n",
    "    print(err,b)\n",
    "    print(a)\n",
    "#except ZeroDivisionError as err:\n",
    " #   print(err,b)\n",
    "  #  print(a)\n",
    "#except KeyboardInterrupt as err:\n",
    " #   print('oh aap kaam karha hi nhichaahte ')  \n",
    "#except Exception as err:\n",
    "    print(err)\n",
    "else:\n",
    "    print('sab badhiya')\n",
    "finally:\n",
    "    print('Marte marte raaz batake jaaunga')    \n",
    "print('Kaam ho gaya')                     "
   ]
  },
  {
   "cell_type": "code",
   "execution_count": 8,
   "metadata": {},
   "outputs": [],
   "source": [
    "## In Python a function can be\n",
    "### assigned to a variable\n",
    "### passrd as an argument to afunction\n",
    "### defined inside another function\n",
    "### returned from another function"
   ]
  },
  {
   "cell_type": "code",
   "execution_count": 1,
   "metadata": {},
   "outputs": [
    {
     "name": "stdout",
     "output_type": "stream",
     "text": [
      "10\n",
      "30\n",
      "30\n",
      "30\n"
     ]
    }
   ],
   "source": [
    "#scop of variable\n",
    "a=10\n",
    "def xyz():\n",
    "    global a\n",
    "    a+= 20\n",
    "    print(a)\n",
    "print(a)\n",
    "xyz()\n",
    "print(a)    \n",
    "print(a)"
   ]
  },
  {
   "cell_type": "code",
   "execution_count": 13,
   "metadata": {},
   "outputs": [],
   "source": [
    "def abc(x,y):\n",
    "    return(x+y)\n",
    "    "
   ]
  },
  {
   "cell_type": "code",
   "execution_count": 11,
   "metadata": {},
   "outputs": [],
   "source": [
    "def pot():\n",
    "    print('pot')"
   ]
  },
  {
   "cell_type": "code",
   "execution_count": 12,
   "metadata": {},
   "outputs": [
    {
     "ename": "SyntaxError",
     "evalue": "expected ':' (3937185836.py, line 1)",
     "output_type": "error",
     "traceback": [
      "\u001b[1;36m  Cell \u001b[1;32mIn[12], line 1\u001b[1;36m\u001b[0m\n\u001b[1;33m    def pqr(f)\u001b[0m\n\u001b[1;37m              ^\u001b[0m\n\u001b[1;31mSyntaxError\u001b[0m\u001b[1;31m:\u001b[0m expected ':'\n"
     ]
    }
   ],
   "source": [
    "def pqr(f)\n"
   ]
  },
  {
   "cell_type": "code",
   "execution_count": 14,
   "metadata": {},
   "outputs": [
    {
     "ename": "SyntaxError",
     "evalue": "invalid syntax (2022897798.py, line 2)",
     "output_type": "error",
     "traceback": [
      "\u001b[1;36m  Cell \u001b[1;32mIn[14], line 2\u001b[1;36m\u001b[0m\n\u001b[1;33m    def\u001b[0m\n\u001b[1;37m        ^\u001b[0m\n\u001b[1;31mSyntaxError\u001b[0m\u001b[1;31m:\u001b[0m invalid syntax\n"
     ]
    }
   ],
   "source": [
    "def basket():\n",
    "    def "
   ]
  },
  {
   "cell_type": "code",
   "execution_count": 15,
   "metadata": {},
   "outputs": [],
   "source": [
    "def awesome(f,m,n):\n",
    "    return f, m+n"
   ]
  },
  {
   "cell_type": "code",
   "execution_count": 16,
   "metadata": {},
   "outputs": [],
   "source": [
    "p,_=awesome(pot,3,4)"
   ]
  },
  {
   "cell_type": "code",
   "execution_count": 17,
   "metadata": {},
   "outputs": [
    {
     "name": "stdout",
     "output_type": "stream",
     "text": [
      "pot\n"
     ]
    }
   ],
   "source": [
    "p()"
   ]
  },
  {
   "cell_type": "code",
   "execution_count": 27,
   "metadata": {},
   "outputs": [],
   "source": [
    "# Decorator\n",
    "def decorator(f):\n",
    "    def special():\n",
    "        print('ye to special hai')\n",
    "        f()\n",
    "        print('decorate ho gaya')\n",
    "    return special     "
   ]
  },
  {
   "cell_type": "code",
   "execution_count": 32,
   "metadata": {},
   "outputs": [],
   "source": [
    "\n",
    "def decorator2(f):\n",
    "    def special():\n",
    "        print('ye to gazab hai')\n",
    "        f()\n",
    "        print('decorate hota ha gaya')\n",
    "    return special     "
   ]
  },
  {
   "cell_type": "code",
   "execution_count": 33,
   "metadata": {},
   "outputs": [],
   "source": [
    "@decorator2\n",
    "@decorator\n",
    "def simple():\n",
    "\n",
    "    print('mai to bahut simple hu')\n",
    "\n",
    "#simple = decorate(simple)    "
   ]
  },
  {
   "cell_type": "code",
   "execution_count": 34,
   "metadata": {},
   "outputs": [
    {
     "name": "stdout",
     "output_type": "stream",
     "text": [
      "ye to gazab hai\n",
      "ye to special hai\n",
      "mai to bahut simple hu\n",
      "decorate ho gaya\n",
      "decorate hota ha gaya\n"
     ]
    }
   ],
   "source": [
    "simple()"
   ]
  },
  {
   "cell_type": "code",
   "execution_count": 35,
   "metadata": {},
   "outputs": [],
   "source": [
    "## Annonymous Functions\n",
    "# Lambda Expression \n",
    "# Lambda ip_args: op_args"
   ]
  },
  {
   "cell_type": "code",
   "execution_count": 36,
   "metadata": {},
   "outputs": [
    {
     "name": "stdout",
     "output_type": "stream",
     "text": [
      "20\n"
     ]
    }
   ],
   "source": [
    "def normal(x,y):\n",
    "    return x*y\n",
    "\n",
    "m=normal(4,5)\n",
    "print(m)"
   ]
  },
  {
   "cell_type": "code",
   "execution_count": 37,
   "metadata": {},
   "outputs": [
    {
     "data": {
      "text/plain": [
       "20"
      ]
     },
     "execution_count": 37,
     "metadata": {},
     "output_type": "execute_result"
    }
   ],
   "source": [
    "normals=lambda x,y:x*y\n",
    "normals(4,5)"
   ]
  },
  {
   "cell_type": "code",
   "execution_count": 38,
   "metadata": {},
   "outputs": [],
   "source": [
    "def my_mapper(func,values):\n",
    "    result=[]\n",
    "    for value in values:\n",
    "        result += [func(value)]\n",
    "    return result    "
   ]
  },
  {
   "cell_type": "code",
   "execution_count": 42,
   "metadata": {},
   "outputs": [
    {
     "name": "stdout",
     "output_type": "stream",
     "text": [
      "[12, 14, 6, 12, 16, 4]\n"
     ]
    },
    {
     "ename": "NameError",
     "evalue": "name 'v' is not defined",
     "output_type": "error",
     "traceback": [
      "\u001b[1;31m---------------------------------------------------------------------------\u001b[0m",
      "\u001b[1;31mNameError\u001b[0m                                 Traceback (most recent call last)",
      "Cell \u001b[1;32mIn[42], line 3\u001b[0m\n\u001b[0;32m      1\u001b[0m data\u001b[39m=\u001b[39m[\u001b[39m6\u001b[39m,\u001b[39m7\u001b[39m,\u001b[39m3\u001b[39m,\u001b[39m6\u001b[39m,\u001b[39m8\u001b[39m,\u001b[39m2\u001b[39m]\n\u001b[0;32m      2\u001b[0m \u001b[39mprint\u001b[39m(my_mapper(\u001b[39mlambda\u001b[39;00m x:x\u001b[39m*\u001b[39m\u001b[39m2\u001b[39m, data))\n\u001b[1;32m----> 3\u001b[0m \u001b[39mprint\u001b[39m(my_mapper(\u001b[39mlambda\u001b[39;49;00m x:x\u001b[39m*\u001b[39;49m\u001b[39m2\u001b[39;49m \u001b[39mif\u001b[39;49;00m v\u001b[39m%\u001b[39;49m\u001b[39m2\u001b[39;49m \u001b[39melse\u001b[39;49;00m v\u001b[39m/\u001b[39;49m\u001b[39m2\u001b[39;49m , data))\n\u001b[0;32m      4\u001b[0m \u001b[39mprint\u001b[39m(my_mapper(\u001b[39mlambda\u001b[39;00m x:x\u001b[39m*\u001b[39m\u001b[39m2\u001b[39m, \u001b[39mstr\u001b[39m(v), data))\n\u001b[0;32m      6\u001b[0m \u001b[39m#def first(v):\u001b[39;00m\n\u001b[0;32m      7\u001b[0m  \u001b[39m#   return v*2\u001b[39;00m\n\u001b[0;32m      8\u001b[0m \u001b[39m#def second(v):\u001b[39;00m\n\u001b[1;32m   (...)\u001b[0m\n\u001b[0;32m     13\u001b[0m \u001b[39m#print(my_mapper(second,data))\u001b[39;00m\n\u001b[0;32m     14\u001b[0m \u001b[39m#print(my_mapper(third,data))\u001b[39;00m\n",
      "Cell \u001b[1;32mIn[38], line 4\u001b[0m, in \u001b[0;36mmy_mapper\u001b[1;34m(func, values)\u001b[0m\n\u001b[0;32m      2\u001b[0m result\u001b[39m=\u001b[39m[]\n\u001b[0;32m      3\u001b[0m \u001b[39mfor\u001b[39;00m value \u001b[39min\u001b[39;00m values:\n\u001b[1;32m----> 4\u001b[0m     result \u001b[39m+\u001b[39m\u001b[39m=\u001b[39m [func(value)]\n\u001b[0;32m      5\u001b[0m \u001b[39mreturn\u001b[39;00m result\n",
      "Cell \u001b[1;32mIn[42], line 3\u001b[0m, in \u001b[0;36m<lambda>\u001b[1;34m(x)\u001b[0m\n\u001b[0;32m      1\u001b[0m data\u001b[39m=\u001b[39m[\u001b[39m6\u001b[39m,\u001b[39m7\u001b[39m,\u001b[39m3\u001b[39m,\u001b[39m6\u001b[39m,\u001b[39m8\u001b[39m,\u001b[39m2\u001b[39m]\n\u001b[0;32m      2\u001b[0m \u001b[39mprint\u001b[39m(my_mapper(\u001b[39mlambda\u001b[39;00m x:x\u001b[39m*\u001b[39m\u001b[39m2\u001b[39m, data))\n\u001b[1;32m----> 3\u001b[0m \u001b[39mprint\u001b[39m(my_mapper(\u001b[39mlambda\u001b[39;00m x:x\u001b[39m*\u001b[39m\u001b[39m2\u001b[39m \u001b[39mif\u001b[39;00m v\u001b[39m%\u001b[39m\u001b[39m2\u001b[39m \u001b[39melse\u001b[39;00m v\u001b[39m/\u001b[39m\u001b[39m2\u001b[39m , data))\n\u001b[0;32m      4\u001b[0m \u001b[39mprint\u001b[39m(my_mapper(\u001b[39mlambda\u001b[39;00m x:x\u001b[39m*\u001b[39m\u001b[39m2\u001b[39m, \u001b[39mstr\u001b[39m(v), data))\n\u001b[0;32m      6\u001b[0m \u001b[39m#def first(v):\u001b[39;00m\n\u001b[0;32m      7\u001b[0m  \u001b[39m#   return v*2\u001b[39;00m\n\u001b[0;32m      8\u001b[0m \u001b[39m#def second(v):\u001b[39;00m\n\u001b[1;32m   (...)\u001b[0m\n\u001b[0;32m     13\u001b[0m \u001b[39m#print(my_mapper(second,data))\u001b[39;00m\n\u001b[0;32m     14\u001b[0m \u001b[39m#print(my_mapper(third,data))\u001b[39;00m\n",
      "\u001b[1;31mNameError\u001b[0m: name 'v' is not defined"
     ]
    }
   ],
   "source": [
    "data=[6,7,3,6,8,2]\n",
    "print(my_mapper(lambda x:x*2, data))\n",
    "print(my_mapper(lambda x:x*2 if v%2 else v/2 , data))\n",
    "print(my_mapper(lambda x:x*2, str(v), data))\n",
    "\n",
    "#def first(v):\n",
    " #   return v*2\n",
    "#def second(v):\n",
    " #   return v*2 if v%2 else v/2\n",
    "#def third(v):\n",
    " #   return str(v)\n",
    "#print(my_mapper(first,data))\n",
    "#print(my_mapper(second,data))\n",
    "#print(my_mapper(third,data))"
   ]
  },
  {
   "cell_type": "code",
   "execution_count": null,
   "metadata": {},
   "outputs": [],
   "source": [
    "def first(v):\n",
    "    "
   ]
  }
 ],
 "metadata": {
  "kernelspec": {
   "display_name": ".venv",
   "language": "python",
   "name": "python3"
  },
  "language_info": {
   "codemirror_mode": {
    "name": "ipython",
    "version": 3
   },
   "file_extension": ".py",
   "mimetype": "text/x-python",
   "name": "python",
   "nbconvert_exporter": "python",
   "pygments_lexer": "ipython3",
   "version": "3.10.5"
  },
  "orig_nbformat": 4
 },
 "nbformat": 4,
 "nbformat_minor": 2
}
