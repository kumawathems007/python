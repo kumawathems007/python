{
 "cells": [
  {
   "cell_type": "code",
   "execution_count": null,
   "metadata": {},
   "outputs": [],
   "source": [
    "# Error & Exception Handling\n",
    "## Try-except-else-finally\n",
    "### Built-in Exceptions"
   ]
  },
  {
   "cell_type": "code",
   "execution_count": 8,
   "metadata": {},
   "outputs": [
    {
     "name": "stdout",
     "output_type": "stream",
     "text": [
      "2.0\n"
     ]
    }
   ],
   "source": [
    "try:\n",
    "    a=10\n",
    "    b=int(input('Enter the number:'))\n",
    "    print(a/b)\n",
    "except ValueError as err:\n",
    "    print(err,b)\n",
    "    print(a)\n",
    "#except ZeroDivisionError as err:\n",
    " #   print(err,b)\n",
    "  #  print(a)\n",
    "#except KeyboardInterrupt as err:\n",
    " #   print('oh aap kaam karha hi nhichaahte ')  \n",
    "#except Exception as err:\n",
    "    #print(err)\n",
    "#else:\n",
    " #   print('sab badhiya')\n",
    "#finally:\n",
    "  #  print('Marte marte raaz batake jaaunga')    \n",
    "#print('Kaam ho gaya')                     "
   ]
  },
  {
   "cell_type": "code",
   "execution_count": 8,
   "metadata": {},
   "outputs": [],
   "source": [
    "## In Python a function can be\n",
    "### assigned to a variable\n",
    "### passrd as an argument to afunction\n",
    "### defined inside another function\n",
    "### returned from another function"
   ]
  },
  {
   "cell_type": "code",
   "execution_count": 9,
   "metadata": {},
   "outputs": [
    {
     "name": "stdout",
     "output_type": "stream",
     "text": [
      "10\n",
      "30\n",
      "30\n",
      "30\n"
     ]
    }
   ],
   "source": [
    "#scop of variable\n",
    "a=10\n",
    "def xyz():\n",
    "    global a\n",
    "    a+= 20\n",
    "    print(a)\n",
    "print(a)\n",
    "xyz()\n",
    "print(a)    \n",
    "print(a)"
   ]
  },
  {
   "cell_type": "code",
   "execution_count": 19,
   "metadata": {},
   "outputs": [
    {
     "data": {
      "text/plain": [
       "7"
      ]
     },
     "execution_count": 19,
     "metadata": {},
     "output_type": "execute_result"
    }
   ],
   "source": [
    "a=3\n",
    "def abc(x,y):\n",
    "    return(x+y)\n",
    "   # print(x+y)\n",
    "abc(3,4)\n",
    "\n",
    "    "
   ]
  },
  {
   "cell_type": "code",
   "execution_count": 22,
   "metadata": {},
   "outputs": [
    {
     "name": "stdout",
     "output_type": "stream",
     "text": [
      "pot\n"
     ]
    },
    {
     "data": {
      "text/plain": [
       "3"
      ]
     },
     "execution_count": 22,
     "metadata": {},
     "output_type": "execute_result"
    }
   ],
   "source": [
    "def pot():\n",
    "    print('pot')\n",
    "\n",
    "pot()\n"
   ]
  },
  {
   "cell_type": "code",
   "execution_count": 12,
   "metadata": {},
   "outputs": [
    {
     "ename": "SyntaxError",
     "evalue": "expected ':' (3937185836.py, line 1)",
     "output_type": "error",
     "traceback": [
      "\u001b[1;36m  Cell \u001b[1;32mIn[12], line 1\u001b[1;36m\u001b[0m\n\u001b[1;33m    def pqr(f)\u001b[0m\n\u001b[1;37m              ^\u001b[0m\n\u001b[1;31mSyntaxError\u001b[0m\u001b[1;31m:\u001b[0m expected ':'\n"
     ]
    }
   ],
   "source": [
    "def pqr(f)\n"
   ]
  },
  {
   "cell_type": "code",
   "execution_count": 14,
   "metadata": {},
   "outputs": [
    {
     "ename": "SyntaxError",
     "evalue": "invalid syntax (2022897798.py, line 2)",
     "output_type": "error",
     "traceback": [
      "\u001b[1;36m  Cell \u001b[1;32mIn[14], line 2\u001b[1;36m\u001b[0m\n\u001b[1;33m    def\u001b[0m\n\u001b[1;37m        ^\u001b[0m\n\u001b[1;31mSyntaxError\u001b[0m\u001b[1;31m:\u001b[0m invalid syntax\n"
     ]
    }
   ],
   "source": [
    "def basket():\n",
    "    def "
   ]
  },
  {
   "cell_type": "code",
   "execution_count": 23,
   "metadata": {},
   "outputs": [
    {
     "data": {
      "text/plain": [
       "(3, 7)"
      ]
     },
     "execution_count": 23,
     "metadata": {},
     "output_type": "execute_result"
    }
   ],
   "source": [
    "def awesome(f,m,n):\n",
    "    return f, m+n\n",
    "\n",
    "awesome(3,2,5)"
   ]
  },
  {
   "cell_type": "code",
   "execution_count": 25,
   "metadata": {},
   "outputs": [],
   "source": [
    "p,_=awesome(pot,3,4)"
   ]
  },
  {
   "cell_type": "code",
   "execution_count": 26,
   "metadata": {},
   "outputs": [
    {
     "ename": "TypeError",
     "evalue": "'tuple' object is not callable",
     "output_type": "error",
     "traceback": [
      "\u001b[1;31m---------------------------------------------------------------------------\u001b[0m",
      "\u001b[1;31mTypeError\u001b[0m                                 Traceback (most recent call last)",
      "Cell \u001b[1;32mIn[26], line 1\u001b[0m\n\u001b[1;32m----> 1\u001b[0m p()\n",
      "\u001b[1;31mTypeError\u001b[0m: 'tuple' object is not callable"
     ]
    }
   ],
   "source": [
    "p()"
   ]
  },
  {
   "cell_type": "code",
   "execution_count": 39,
   "metadata": {},
   "outputs": [],
   "source": [
    "# Decorator\n",
    "def decorator(f):\n",
    "    def special():\n",
    "        print('ye to special hai')\n",
    "        f()\n",
    "        print('decorate ho gaya')\n",
    "    return special     "
   ]
  },
  {
   "cell_type": "code",
   "execution_count": 40,
   "metadata": {},
   "outputs": [],
   "source": [
    "\n",
    "def decorator2(f):\n",
    "    def special():\n",
    "        print('ye  to gazab hai')\n",
    "        f()\n",
    "        print('decorate hota ha gaya')\n",
    "    return special     "
   ]
  },
  {
   "cell_type": "code",
   "execution_count": 41,
   "metadata": {},
   "outputs": [],
   "source": [
    "@decorator2\n",
    "@decorator\n",
    "def simple():\n",
    "\n",
    "    print('mai to bahut simple hu')\n",
    "\n",
    "#simple = decorate(simple)    "
   ]
  },
  {
   "cell_type": "code",
   "execution_count": 42,
   "metadata": {},
   "outputs": [
    {
     "name": "stdout",
     "output_type": "stream",
     "text": [
      "ye  to gazab hai\n",
      "ye to special hai\n",
      "mai to bahut simple hu\n",
      "decorate ho gaya\n",
      "decorate hota ha gaya\n"
     ]
    }
   ],
   "source": [
    "simple()"
   ]
  },
  {
   "cell_type": "code",
   "execution_count": 43,
   "metadata": {},
   "outputs": [],
   "source": [
    "## Annonymous Functions, any number of argumentes and but only one expression ,also unnamed function\n",
    "# Lambda Expression \n",
    "# Lambda ip_args: op_args"
   ]
  },
  {
   "cell_type": "code",
   "execution_count": 54,
   "metadata": {},
   "outputs": [
    {
     "name": "stdout",
     "output_type": "stream",
     "text": [
      "20\n"
     ]
    }
   ],
   "source": [
    "def normal(x,y):\n",
    "    return x*y\n",
    "\n",
    "m=normal(4,5)\n",
    "print(m)"
   ]
  },
  {
   "cell_type": "code",
   "execution_count": 64,
   "metadata": {},
   "outputs": [
    {
     "data": {
      "text/plain": [
       "20"
      ]
     },
     "execution_count": 64,
     "metadata": {},
     "output_type": "execute_result"
    }
   ],
   "source": [
    "normals=lambda x,y:x*y\n",
    "normals(4,5)"
   ]
  },
  {
   "cell_type": "code",
   "execution_count": 57,
   "metadata": {},
   "outputs": [],
   "source": [
    "#flexible tool for mapping operations over sequences\n",
    "def my_mapper(func,values):\n",
    "    result=[]\n",
    "    for value in values:\n",
    "        result += [func(value)]\n",
    "    return result    \n"
   ]
  },
  {
   "cell_type": "code",
   "execution_count": 67,
   "metadata": {},
   "outputs": [
    {
     "name": "stdout",
     "output_type": "stream",
     "text": [
      "[12, 14, 6, 12, 16, 4]\n",
      "[3.0, 14, 6, 3.0, 4.0, 1.0]\n",
      "['12', '14', '6', '12', '16', '4']\n",
      "[12, 14, 6, 12, 16, 4]\n",
      "[3.0, 14, 6, 3.0, 4.0, 1.0]\n",
      "['6', '7', '3', '6', '8', '2']\n"
     ]
    }
   ],
   "source": [
    "data=[6,7,3,6,8,2]\n",
    "print(my_mapper(lambda x:x*2, data))\n",
    "print(my_mapper(lambda x:x*2 if x%2 else x/2 , data))\n",
    "print(my_mapper(lambda x: str(x*2), data))\n",
    "\n",
    "def first(v):\n",
    "    return v*2\n",
    "def second(v):\n",
    "    return v*2 if v%2 else v/2\n",
    "def third(v):\n",
    "    return str(v)\n",
    "print(my_mapper(first,data))\n",
    "print(my_mapper(second,data))\n",
    "print(my_mapper(third,data))"
   ]
  },
  {
   "cell_type": "code",
   "execution_count": null,
   "metadata": {},
   "outputs": [],
   "source": []
  }
 ],
 "metadata": {
  "kernelspec": {
   "display_name": ".venv",
   "language": "python",
   "name": "python3"
  },
  "language_info": {
   "codemirror_mode": {
    "name": "ipython",
    "version": 3
   },
   "file_extension": ".py",
   "mimetype": "text/x-python",
   "name": "python",
   "nbconvert_exporter": "python",
   "pygments_lexer": "ipython3",
   "version": "3.10.5"
  },
  "orig_nbformat": 4
 },
 "nbformat": 4,
 "nbformat_minor": 2
}
