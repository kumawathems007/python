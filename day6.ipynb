{
 "cells": [
  {
   "cell_type": "code",
   "execution_count": null,
   "metadata": {},
   "outputs": [],
   "source": [
    "# Object orianted programming\n",
    "#class -Template\n",
    "#object - instance"
   ]
  },
  {
   "cell_type": "code",
   "execution_count": 2,
   "metadata": {},
   "outputs": [
    {
     "data": {
      "text/plain": [
       "<__main__.Abc at 0x1e511ed1450>"
      ]
     },
     "execution_count": 2,
     "metadata": {},
     "output_type": "execute_result"
    }
   ],
   "source": [
    "class Abc:\n",
    "    pass\n",
    "\n",
    "x = Abc()\n",
    "x"
   ]
  },
  {
   "cell_type": "code",
   "execution_count": 3,
   "metadata": {},
   "outputs": [],
   "source": [
    "# GeometricManagement  - Class\n",
    "# geometric_management  -  Function\n",
    "# geometricManagmenr  -  variable\n"
   ]
  },
  {
   "cell_type": "code",
   "execution_count": 4,
   "metadata": {},
   "outputs": [],
   "source": [
    "# A class may have\n",
    "### 1. Methods/Functions\n",
    "    # user define method\n",
    "    # special methods/donders/\n",
    "\n",
    "# 2. attributes\n",
    "    # Instance attributes\n",
    "    # class attributes\n",
    " "
   ]
  },
  {
   "cell_type": "code",
   "execution_count": 6,
   "metadata": {},
   "outputs": [
    {
     "name": "stdout",
     "output_type": "stream",
     "text": [
      "<__main__.Abc object at 0x000001E510B68760>\n",
      "10 20\n"
     ]
    }
   ],
   "source": [
    "class Abc():\n",
    "    a=10\n",
    "    b=20\n",
    "    def show(self):\n",
    "        print(self.a,Abc.b)\n",
    "\n",
    "x= Abc()\n",
    "print(x)\n",
    "x.show()      \n",
    "%timeit"
   ]
  },
  {
   "cell_type": "code",
   "execution_count": 7,
   "metadata": {},
   "outputs": [
    {
     "name": "stdout",
     "output_type": "stream",
     "text": [
      "10 20\n"
     ]
    }
   ],
   "source": [
    "x.show()"
   ]
  },
  {
   "cell_type": "code",
   "execution_count": 8,
   "metadata": {},
   "outputs": [],
   "source": [
    "y=Abc()\n",
    "z=Abc()"
   ]
  },
  {
   "cell_type": "code",
   "execution_count": 9,
   "metadata": {},
   "outputs": [
    {
     "name": "stdout",
     "output_type": "stream",
     "text": [
      "10 20\n",
      "10 20\n"
     ]
    }
   ],
   "source": [
    "y.show()\n",
    "z.show()"
   ]
  },
  {
   "cell_type": "code",
   "execution_count": 10,
   "metadata": {},
   "outputs": [],
   "source": [
    "x.a=45\n",
    "y.a=55\n",
    "Abc.b=100"
   ]
  },
  {
   "cell_type": "code",
   "execution_count": 11,
   "metadata": {},
   "outputs": [
    {
     "name": "stdout",
     "output_type": "stream",
     "text": [
      "45 100\n",
      "55 100\n",
      "10 100\n"
     ]
    }
   ],
   "source": [
    "x.show()\n",
    "y.show()\n",
    "z.show()"
   ]
  },
  {
   "cell_type": "code",
   "execution_count": 12,
   "metadata": {},
   "outputs": [
    {
     "name": "stdout",
     "output_type": "stream",
     "text": [
      "10 20\n",
      "30 20\n",
      "15 20\n",
      "10 30\n",
      "30 30\n",
      "15 30\n",
      "10 30\n",
      "10 20\n"
     ]
    }
   ],
   "source": [
    "class Abc():\n",
    "    \n",
    "    def __init__(self,a=10, b=20):\n",
    "        self.a=a\n",
    "        Abc.b=b\n",
    "\n",
    "    def __str__(self) -> str:\n",
    "       return\"Hi\"\n",
    "\n",
    "    def __call__(self, *args: any, **kwds: any) -> any:\n",
    "        return sum(args)\n",
    "\n",
    "\n",
    "    def show(self):\n",
    "       print(self.a,Abc.b)\n",
    "\n",
    "x=Abc()\n",
    "y=Abc(a=30)\n",
    "z=Abc(a=15)\n",
    "x.show();y.show();z.show()\n",
    "w=Abc(b=30)\n",
    "x.show();y.show();z.show();w.show()        \n",
    "Abc().show()  "
   ]
  },
  {
   "cell_type": "code",
   "execution_count": 32,
   "metadata": {},
   "outputs": [
    {
     "data": {
      "text/plain": [
       "39"
      ]
     },
     "execution_count": 32,
     "metadata": {},
     "output_type": "execute_result"
    }
   ],
   "source": [
    "x(5,23,3,5,3)"
   ]
  },
  {
   "cell_type": "code",
   "execution_count": 37,
   "metadata": {},
   "outputs": [
    {
     "name": "stdout",
     "output_type": "stream",
     "text": [
      "Its simple\n",
      "30 20\n"
     ]
    },
    {
     "data": {
      "text/plain": [
       "0"
      ]
     },
     "execution_count": 37,
     "metadata": {},
     "output_type": "execute_result"
    }
   ],
   "source": [
    "class Pqr(Abc):\n",
    "    def __init__(self,a=10,b=20):\n",
    "        super().__init__(a,b)\n",
    "    def simple(self):\n",
    "        print('Its simple')\n",
    "\n",
    "p=Pqr(a=30)\n",
    "p.simple()\n",
    "p.show()      \n",
    "p()  "
   ]
  },
  {
   "cell_type": "code",
   "execution_count": 38,
   "metadata": {},
   "outputs": [],
   "source": [
    "## GUI Developement  ##\n",
    "# kivi/tkinter /custome tkinterr/"
   ]
  },
  {
   "cell_type": "code",
   "execution_count": 53,
   "metadata": {},
   "outputs": [],
   "source": [
    "import tkinter as ktr\n",
    "app = ktr.Tk(__name__)\n",
    "app.geometry('400x400')\n",
    "app.title('My First GUI')\n",
    "\n",
    "\n",
    "\n",
    "# Lable, Entry, Button-> Geometric Management/Placement\n",
    "#pack(), grid(row=0,column=0),place(x=20, y=20)\n",
    "\n",
    "\n",
    "var1=ktr.Variable()\n",
    "var1.set('Initial Value')\n",
    "\n",
    "#a=ktr.Label(app, text = 'Mera Pehla Text')\n",
    "a=ktr.Label(app, textvariable=var1)\n",
    "#a.grid(row=0,column=0)#default location in center\n",
    "a.place(x=5,y=6) # customesed location by coordinates\n",
    "var2 = ktr.Variable()\n",
    "ktr.Entry(app, textvariable=var2).place(x=20,y=20)\n",
    "\n",
    "def putText():\n",
    "    var1.set(var2.get())\n",
    "ktr.Button(app, text='Put', command=putText).place(x=80,y=80)    \n",
    "\n",
    "ktr.Label(app, text='Y doosra tareeka hai ').place(x=30,y=40)\n",
    "\n",
    "\n",
    "\n",
    "\n",
    "app.mainloop()"
   ]
  },
  {
   "cell_type": "code",
   "execution_count": 13,
   "metadata": {},
   "outputs": [
    {
     "name": "stdout",
     "output_type": "stream",
     "text": [
      "Welcome to the dialpad!\n",
      "Enter 'exit' to quit.\n",
      "Invalid input. Please enter a digit or 'exit'.\n",
      "Exiting the dialpad.\n"
     ]
    }
   ],
   "source": [
    "import numpy as np\n",
    "\n",
    "def dialpad():\n",
    "    print(\"Welcome to the dialpad!\")\n",
    "    print(\"Enter 'exit' to quit.\")\n",
    "    \n",
    "    while True:\n",
    "        user_input = input(\"Enter a digit or 'exit': \").strip()\n",
    "        \n",
    "        if user_input.lower() == 'exit':\n",
    "            print(\"Exiting the dialpad.\")\n",
    "            break\n",
    "\n",
    "        if user_input.isdigit():\n",
    "            num = int(user_input)\n",
    "            print(\"Dialing number: {}\".format(num))\n",
    "            perform_operation(num)\n",
    "        else:\n",
    "            print(\"Invalid input. Please enter a digit or 'exit'.\")\n",
    "\n",
    "def perform_operation(number):\n",
    "    arr = np.arange(1, 11)  # Create an array of numbers from 1 to 10 using NumPy\n",
    "    result = arr * number  # Perform a basic numerical operation (multiplication)\n",
    "    \n",
    "    print(\"Result of multiplication with {}: {}\".format(number, result))\n",
    "\n",
    "if __name__ == \"__main__\":\n",
    "    dialpad()\n"
   ]
  },
  {
   "cell_type": "code",
   "execution_count": 14,
   "metadata": {},
   "outputs": [
    {
     "ename": "",
     "evalue": "",
     "output_type": "error",
     "traceback": [
      "\u001b[1;31mThe Kernel crashed while executing code in the the current cell or a previous cell. Please review the code in the cell(s) to identify a possible cause of the failure. Click <a href='https://aka.ms/vscodeJupyterKernelCrash'>here</a> for more info. View Jupyter <a href='command:jupyter.viewOutput'>log</a> for further details."
     ]
    }
   ],
   "source": [
    "import tkinter as tk\n",
    "from tkinter import messagebox\n",
    "\n",
    "def dialpad_click(digit):\n",
    "    if digit == 'Exit':\n",
    "        dialpad_window.quit()\n",
    "    else:\n",
    "        result_label.config(text=\"Dialing number: {}\".format(digit))\n",
    "        perform_operation(int(digit))\n",
    "\n",
    "def perform_operation(number):\n",
    "    arr = list(range(1, 11))  # Create a list of numbers from 1 to 10\n",
    "    result = [num * number for num in arr]  # Perform a basic numerical operation (multiplication)\n",
    "\n",
    "    result_label.config(text=\"Result of multiplication with {}: {}\".format(number, result))\n",
    "\n",
    "# Create the main dialpad window\n",
    "dialpad_window = tk.Tk()\n",
    "dialpad_window.title(\"Dialpad\")\n",
    "\n",
    "# Create a label to display the dialing result\n",
    "result_label = tk.Label(dialpad_window, text=\"Welcome to the dialpad!\")\n",
    "result_label.pack()\n",
    "\n",
    "# Create buttons for digits 0 to 9 and Exit\n",
    "digits = list(range(10)) + ['Exit']\n",
    "for digit in digits:\n",
    "    button = tk.Button(dialpad_window, text=str(digit), width=5, height=2, command=lambda d=digit: dialpad_click(d))\n",
    "    button.pack(side=tk.LEFT)\n",
    "\n",
    "# Run the Tkinter main loop\n",
    "dialpad_window.mainloop()\n"
   ]
  },
  {
   "cell_type": "code",
   "execution_count": null,
   "metadata": {},
   "outputs": [],
   "source": []
  }
 ],
 "metadata": {
  "kernelspec": {
   "display_name": ".venv",
   "language": "python",
   "name": "python3"
  },
  "language_info": {
   "codemirror_mode": {
    "name": "ipython",
    "version": 3
   },
   "file_extension": ".py",
   "mimetype": "text/x-python",
   "name": "python",
   "nbconvert_exporter": "python",
   "pygments_lexer": "ipython3",
   "version": "3.10.5"
  },
  "orig_nbformat": 4
 },
 "nbformat": 4,
 "nbformat_minor": 2
}
