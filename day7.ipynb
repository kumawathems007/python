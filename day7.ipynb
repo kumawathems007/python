{
 "cells": [
  {
   "cell_type": "code",
   "execution_count": 11,
   "metadata": {},
   "outputs": [],
   "source": [
    "\n",
    "import numpy as np"
   ]
  },
  {
   "cell_type": "code",
   "execution_count": 13,
   "metadata": {},
   "outputs": [
    {
     "name": "stdout",
     "output_type": "stream",
     "text": [
      "[ 3  8  2 67 45]\n"
     ]
    }
   ],
   "source": [
    "a=np.array([3,8,2,67,45])\n",
    "a\n",
    "print(a)"
   ]
  },
  {
   "cell_type": "code",
   "execution_count": 21,
   "metadata": {},
   "outputs": [],
   "source": [
    "def show_array(arr):\n",
    "    print('Array:',arr,sep='\\n')\n",
    "    print('type',type(arr))\n",
    "    print('shape',arr.shape)\n",
    "    print('Size',arr.size)\n",
    "    print('Dtype',arr.dtype)"
   ]
  },
  {
   "cell_type": "code",
   "execution_count": 22,
   "metadata": {},
   "outputs": [],
   "source": [
    "b=np.array([[10,11,13,14],[23,45,6,7],[4,6,43,4]])"
   ]
  },
  {
   "cell_type": "code",
   "execution_count": 23,
   "metadata": {},
   "outputs": [
    {
     "name": "stdout",
     "output_type": "stream",
     "text": [
      "Array:\n",
      "[[10 11 13 14]\n",
      " [23 45  6  7]\n",
      " [ 4  6 43  4]]\n",
      "type <class 'numpy.ndarray'>\n",
      "shape (3, 4)\n",
      "Size 12\n",
      "Dtype int32\n"
     ]
    }
   ],
   "source": [
    "show_array(b)"
   ]
  },
  {
   "cell_type": "code",
   "execution_count": 26,
   "metadata": {},
   "outputs": [
    {
     "name": "stdout",
     "output_type": "stream",
     "text": [
      "[[[ 10 100]\n",
      "  [ 11 110]\n",
      "  [ 13 130]\n",
      "  [ 14 140]]\n",
      "\n",
      " [[ 45 145]\n",
      "  [ 22 122]\n",
      "  [  9  19]\n",
      "  [  2  12]]\n",
      "\n",
      " [[  6  16]\n",
      "  [  5  15]\n",
      "  [  1  11]\n",
      "  [  3  54]]]\n",
      "Array:\n",
      "[[[ 10 100]\n",
      "  [ 11 110]\n",
      "  [ 13 130]\n",
      "  [ 14 140]]\n",
      "\n",
      " [[ 45 145]\n",
      "  [ 22 122]\n",
      "  [  9  19]\n",
      "  [  2  12]]\n",
      "\n",
      " [[  6  16]\n",
      "  [  5  15]\n",
      "  [  1  11]\n",
      "  [  3  54]]]\n",
      "type <class 'numpy.ndarray'>\n",
      "shape (3, 4, 2)\n",
      "Size 24\n",
      "Dtype int32\n"
     ]
    }
   ],
   "source": [
    "c = np.array([[[10,100],[11,110],[13,130],[14,140]],\n",
    "             [[45,145],[22,122],[9,19],[2,12]],\n",
    "               [[6,16],[5,15],[1,11],[3,54]]])\n",
    "print(c)\n",
    "show_array(c)"
   ]
  },
  {
   "cell_type": "code",
   "execution_count": 27,
   "metadata": {},
   "outputs": [
    {
     "data": {
      "text/plain": [
       "array([[10, 11, 13, 14],\n",
       "       [23, 45,  6,  7],\n",
       "       [ 4,  6, 43,  4]])"
      ]
     },
     "execution_count": 27,
     "metadata": {},
     "output_type": "execute_result"
    }
   ],
   "source": [
    "b"
   ]
  },
  {
   "cell_type": "code",
   "execution_count": 43,
   "metadata": {},
   "outputs": [
    {
     "data": {
      "text/plain": [
       "array([[13],\n",
       "       [ 6],\n",
       "       [43]])"
      ]
     },
     "execution_count": 43,
     "metadata": {},
     "output_type": "execute_result"
    }
   ],
   "source": [
    "b[0][0]\n",
    "b[1][1:]\n",
    "b[2][2:]\n",
    "# subscripting [1st,2nd,3rd,.....,nth dim]\n",
    "# subscripting [1st:1st end: stepsize,2nd,3rd,.....,nth dim]\n",
    "b[0,0]\n",
    "b[1,-3:]\n",
    "b[:,-2]\n",
    "b[:,-2:-1]"
   ]
  },
  {
   "cell_type": "code",
   "execution_count": 78,
   "metadata": {},
   "outputs": [
    {
     "name": "stdout",
     "output_type": "stream",
     "text": [
      "(1, 4)\n",
      "[[ 4  6 43  4]]\n"
     ]
    }
   ],
   "source": [
    "b\n",
    "b1=b[-1:,:]\n",
    "print(b1.shape)\n",
    "print(b1)"
   ]
  },
  {
   "cell_type": "code",
   "execution_count": 83,
   "metadata": {},
   "outputs": [
    {
     "ename": "TypeError",
     "evalue": "'c1' is an invalid keyword argument for print()",
     "output_type": "error",
     "traceback": [
      "\u001b[1;31m---------------------------------------------------------------------------\u001b[0m",
      "\u001b[1;31mTypeError\u001b[0m                                 Traceback (most recent call last)",
      "Cell \u001b[1;32mIn[83], line 2\u001b[0m\n\u001b[0;32m      1\u001b[0m \u001b[39m#print(c)\u001b[39;00m\n\u001b[1;32m----> 2\u001b[0m \u001b[39mprint\u001b[39;49m(c1\u001b[39m=\u001b[39;49mc[:\u001b[39m1\u001b[39;49m,:\u001b[39m2\u001b[39;49m,:\u001b[39m1\u001b[39;49m])\n\u001b[0;32m      3\u001b[0m \u001b[39mprint\u001b[39m(c2\u001b[39m=\u001b[39mc[:,\u001b[39m1\u001b[39m:\u001b[39m2\u001b[39m,:\u001b[39m1\u001b[39m])\n\u001b[0;32m      4\u001b[0m \u001b[39mprint\u001b[39m(c3\u001b[39m=\u001b[39mc[\u001b[39m-\u001b[39m\u001b[39m2\u001b[39m:,\u001b[39m-\u001b[39m\u001b[39m1\u001b[39m:,:\u001b[39m1\u001b[39m])\n",
      "\u001b[1;31mTypeError\u001b[0m: 'c1' is an invalid keyword argument for print()"
     ]
    }
   ],
   "source": [
    "#print(c)\n",
    "print(c1=c[:1,:2,:1])\n",
    "print(c2=c[:,1:2,:1])\n",
    "print(c3=c[-2:,-1:,:1])\n",
    "print(c4=c[:2,-2:,:])\n",
    "print(c1.shape)\n",
    "\n"
   ]
  },
  {
   "cell_type": "code",
   "execution_count": 105,
   "metadata": {},
   "outputs": [],
   "source": [
    "# Item assignment\n",
    "b[1,2]=99"
   ]
  },
  {
   "cell_type": "code",
   "execution_count": 86,
   "metadata": {},
   "outputs": [
    {
     "data": {
      "text/plain": [
       "array([ 3,  8,  2, 67, 45, 80, 80, 80])"
      ]
     },
     "execution_count": 86,
     "metadata": {},
     "output_type": "execute_result"
    }
   ],
   "source": [
    "# item insertion\n",
    "a=np.append(a,80)\n",
    "a"
   ]
  },
  {
   "cell_type": "code",
   "execution_count": 88,
   "metadata": {},
   "outputs": [
    {
     "data": {
      "text/plain": [
       "array([[  10,   11,   13,   14],\n",
       "       [  23,   45,    6,    7],\n",
       "       [   4,    6,   43,    4],\n",
       "       [   9,   90,  900, 9000]])"
      ]
     },
     "execution_count": 88,
     "metadata": {},
     "output_type": "execute_result"
    }
   ],
   "source": [
    "np.append(b,[[9,90,900,9000]],axis=0)  # axis=0->row,  axis=1 -> columan"
   ]
  },
  {
   "cell_type": "code",
   "execution_count": 89,
   "metadata": {},
   "outputs": [
    {
     "data": {
      "text/plain": [
       "array([[ 10,  11,  13,  14,   9],\n",
       "       [ 23,  45,   6,   7,  90],\n",
       "       [  4,   6,  43,   4, 900]])"
      ]
     },
     "execution_count": 89,
     "metadata": {},
     "output_type": "execute_result"
    }
   ],
   "source": [
    "np.append(b,[[9],[90],[900]],axis=1)"
   ]
  },
  {
   "cell_type": "code",
   "execution_count": 96,
   "metadata": {},
   "outputs": [
    {
     "data": {
      "text/plain": [
       "array([[10, 11, 13, 14],\n",
       "       [23, 45,  6,  7],\n",
       "       [ 4,  6, 43,  4]])"
      ]
     },
     "execution_count": 96,
     "metadata": {},
     "output_type": "execute_result"
    }
   ],
   "source": [
    "# deleting array\n",
    "# del\n",
    "b1=b.copy()\n",
    "b1"
   ]
  },
  {
   "cell_type": "code",
   "execution_count": 97,
   "metadata": {},
   "outputs": [
    {
     "data": {
      "text/plain": [
       "array([[10, 11, 13, 14],\n",
       "       [23, 45,  6,  7],\n",
       "       [ 4,  6, 43,  4]])"
      ]
     },
     "execution_count": 97,
     "metadata": {},
     "output_type": "execute_result"
    }
   ],
   "source": [
    "np.delete(b1,0,axis=0)\n",
    "b1\n"
   ]
  },
  {
   "cell_type": "code",
   "execution_count": 104,
   "metadata": {},
   "outputs": [
    {
     "data": {
      "text/plain": [
       "array([[20, 22, 26, 28],\n",
       "       [46, 90, 12, 14],\n",
       "       [ 8, 12, 86,  8]])"
      ]
     },
     "execution_count": 104,
     "metadata": {},
     "output_type": "execute_result"
    }
   ],
   "source": [
    "# Arthimatic operations\n",
    "b1*2"
   ]
  },
  {
   "cell_type": "code",
   "execution_count": 100,
   "metadata": {},
   "outputs": [],
   "source": [
    "# array Manipulation\n",
    "#arr.reshape(....)\n",
    "#arr.astype(....)\n",
    "\n",
    "\n",
    "# More functiona to create array\n",
    "# np.array()\n",
    "#np.arange()  -> array version of range func, also allows float\n",
    "# np.linspace() -> start ,end, no. of items\n",
    "# np.ones()  -> generates all values as '1'\n",
    "# np.zeros() -> all  values to zero\n",
    "# np.random.random()\n",
    "# np.random.randint()"
   ]
  },
  {
   "cell_type": "code",
   "execution_count": 103,
   "metadata": {},
   "outputs": [
    {
     "data": {
      "text/plain": [
       "array([[5, 5, 5, 5],\n",
       "       [5, 5, 5, 5],\n",
       "       [5, 5, 5, 5]])"
      ]
     },
     "execution_count": 103,
     "metadata": {},
     "output_type": "execute_result"
    }
   ],
   "source": [
    "np.ones((3,4),dtype='int')*5"
   ]
  },
  {
   "cell_type": "code",
   "execution_count": 101,
   "metadata": {},
   "outputs": [
    {
     "data": {
      "text/plain": [
       "array([[[[10]],\n",
       "\n",
       "        [[11]],\n",
       "\n",
       "        [[13]],\n",
       "\n",
       "        [[14]],\n",
       "\n",
       "        [[23]],\n",
       "\n",
       "        [[45]]],\n",
       "\n",
       "\n",
       "       [[[ 6]],\n",
       "\n",
       "        [[ 7]],\n",
       "\n",
       "        [[ 4]],\n",
       "\n",
       "        [[ 6]],\n",
       "\n",
       "        [[43]],\n",
       "\n",
       "        [[ 4]]]])"
      ]
     },
     "execution_count": 101,
     "metadata": {},
     "output_type": "execute_result"
    }
   ],
   "source": [
    "b1.reshape(2,6,1,1)"
   ]
  },
  {
   "cell_type": "code",
   "execution_count": 102,
   "metadata": {},
   "outputs": [
    {
     "data": {
      "text/plain": [
       "array([[10., 11., 13., 14.],\n",
       "       [23., 45.,  6.,  7.],\n",
       "       [ 4.,  6., 43.,  4.]])"
      ]
     },
     "execution_count": 102,
     "metadata": {},
     "output_type": "execute_result"
    }
   ],
   "source": [
    "b.astype(float)"
   ]
  },
  {
   "cell_type": "code",
   "execution_count": null,
   "metadata": {},
   "outputs": [],
   "source": []
  }
 ],
 "metadata": {
  "kernelspec": {
   "display_name": ".venv",
   "language": "python",
   "name": "python3"
  },
  "language_info": {
   "codemirror_mode": {
    "name": "ipython",
    "version": 3
   },
   "file_extension": ".py",
   "mimetype": "text/x-python",
   "name": "python",
   "nbconvert_exporter": "python",
   "pygments_lexer": "ipython3",
   "version": "3.10.5"
  },
  "orig_nbformat": 4
 },
 "nbformat": 4,
 "nbformat_minor": 2
}
