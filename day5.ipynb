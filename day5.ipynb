{
 "cells": [
  {
   "cell_type": "code",
   "execution_count": 1,
   "metadata": {},
   "outputs": [],
   "source": [
    "# Generator\n",
    "# generator is a special type of iterator that generates values on-the-fly instead of storing them all in memory at once. The yield        keyword is used within a generator function to define points at which the generator should pause its execution and yield a value to the caller \n",
    "\n",
    "def normal():\n",
    "    yield 5\n",
    "    yield 6\n",
    "    yield 'hi'"
   ]
  },
  {
   "cell_type": "code",
   "execution_count": 2,
   "metadata": {},
   "outputs": [],
   "source": [
    "b=normal()"
   ]
  },
  {
   "cell_type": "code",
   "execution_count": 4,
   "metadata": {},
   "outputs": [
    {
     "data": {
      "text/plain": [
       "6"
      ]
     },
     "execution_count": 4,
     "metadata": {},
     "output_type": "execute_result"
    }
   ],
   "source": [
    "next(b)"
   ]
  },
  {
   "cell_type": "code",
   "execution_count": 5,
   "metadata": {},
   "outputs": [
    {
     "data": {
      "text/plain": [
       "'hi'"
      ]
     },
     "execution_count": 5,
     "metadata": {},
     "output_type": "execute_result"
    }
   ],
   "source": [
    "next(b)"
   ]
  },
  {
   "cell_type": "code",
   "execution_count": 8,
   "metadata": {},
   "outputs": [
    {
     "data": {
      "text/plain": [
       "5"
      ]
     },
     "execution_count": 8,
     "metadata": {},
     "output_type": "execute_result"
    }
   ],
   "source": [
    "next(b)"
   ]
  },
  {
   "cell_type": "code",
   "execution_count": 9,
   "metadata": {},
   "outputs": [],
   "source": [
    "b=normal()"
   ]
  },
  {
   "cell_type": "code",
   "execution_count": 10,
   "metadata": {},
   "outputs": [
    {
     "data": {
      "text/plain": [
       "[5, 6, 'hi']"
      ]
     },
     "execution_count": 10,
     "metadata": {},
     "output_type": "execute_result"
    }
   ],
   "source": [
    "list(b)"
   ]
  },
  {
   "cell_type": "code",
   "execution_count": 18,
   "metadata": {},
   "outputs": [
    {
     "name": "stdout",
     "output_type": "stream",
     "text": [
      "[8, 14, 16, 8, 16]\n"
     ]
    }
   ],
   "source": [
    "a = [4,7,8,4,8]\n",
    "def makeGen(data):\n",
    "    for i in data:\n",
    "        yield i\n",
    "\n",
    "\n",
    "b = []\n",
    "for i in makeGen(a):\n",
    "    b.append(i*2) \n",
    "print(b)           "
   ]
  },
  {
   "cell_type": "code",
   "execution_count": 19,
   "metadata": {},
   "outputs": [],
   "source": [
    "# examples of geneator\n",
    "# map()\n",
    "# filter()"
   ]
  },
  {
   "cell_type": "code",
   "execution_count": 20,
   "metadata": {},
   "outputs": [
    {
     "data": {
      "text/plain": [
       "[4, 7, 8, 4, 8]"
      ]
     },
     "execution_count": 20,
     "metadata": {},
     "output_type": "execute_result"
    }
   ],
   "source": [
    "a"
   ]
  },
  {
   "cell_type": "code",
   "execution_count": 26,
   "metadata": {},
   "outputs": [],
   "source": [
    "def my_map(func,data):\n",
    "    for d in data:\n",
    "        yield func(d)\n",
    "\n",
    "def my_filter(func,data):\n",
    "    for d in data:\n",
    "        if func(d) == True:\n",
    "            yield d        "
   ]
  },
  {
   "cell_type": "code",
   "execution_count": 35,
   "metadata": {},
   "outputs": [
    {
     "name": "stdout",
     "output_type": "stream",
     "text": [
      "<map object at 0x0000027C672F73A0>\n",
      "<map object at 0x0000027C661B55D0>\n"
     ]
    }
   ],
   "source": [
    "b1 = map(lambda x:x*2, a)\n",
    "b2 = map(lambda x:x*2 if x%2 else X/2,a)\n",
    "print(b1)\n",
    "print(b2)"
   ]
  },
  {
   "cell_type": "code",
   "execution_count": 28,
   "metadata": {},
   "outputs": [
    {
     "name": "stdout",
     "output_type": "stream",
     "text": [
      "[34, 7, 3, 7, 4, 62, 4, 6, 7, 7]\n",
      "[7, 3, 7, 7, 7]\n",
      "[7, 3, 7, 7, 7]\n"
     ]
    }
   ],
   "source": [
    "p = [34,7,3,7,4,62,4,6,7,7]\n",
    "p1 = [i for i in p if i%2]\n",
    "p2 = filter(lambda x:x%2==1,p)\n",
    "print(p)\n",
    "print(p1)\n",
    "print(list(p2))"
   ]
  },
  {
   "cell_type": "code",
   "execution_count": 29,
   "metadata": {},
   "outputs": [
    {
     "name": "stdout",
     "output_type": "stream",
     "text": [
      "[3, 5, 77, 6, 8, 2, 5, 2]\n",
      "[(3, 8), (5, 2), (77, 5), (6, 2)]\n"
     ]
    }
   ],
   "source": [
    "x=[3,5,77,6]\n",
    "y=[8,2,5,2]\n",
    "print(x+y)\n",
    "print(list(zip(x,y)))"
   ]
  },
  {
   "cell_type": "code",
   "execution_count": null,
   "metadata": {},
   "outputs": [],
   "source": [
    "# library/Framework/modules/packeges in python\n",
    "# Module: A single file containing Python code.\n",
    "# Package: A directory containing related modules and an __init__.py file.\n",
    "# Library: A collection of modules and packages that provide specific functionality.\n",
    "# Framework: A structured foundation for building applications that includes libraries, conventions, and design patterns."
   ]
  },
  {
   "cell_type": "code",
   "execution_count": null,
   "metadata": {},
   "outputs": [],
   "source": []
  },
  {
   "cell_type": "code",
   "execution_count": 33,
   "metadata": {},
   "outputs": [
    {
     "ename": "ImportError",
     "evalue": "cannot import name 'multiplier' from 'day5_lib' (c:\\Users\\Lenovo\\Desktop\\python AIDP\\day5_lib.py)",
     "output_type": "error",
     "traceback": [
      "\u001b[1;31m---------------------------------------------------------------------------\u001b[0m",
      "\u001b[1;31mImportError\u001b[0m                               Traceback (most recent call last)",
      "Cell \u001b[1;32mIn[33], line 4\u001b[0m\n\u001b[0;32m      1\u001b[0m \u001b[39m#import day5_lib\u001b[39;00m\n\u001b[0;32m      2\u001b[0m \u001b[39m#from day5_lib import multiplier\u001b[39;00m\n\u001b[0;32m      3\u001b[0m \u001b[39m#import day5_lib as d5\u001b[39;00m\n\u001b[1;32m----> 4\u001b[0m \u001b[39mfrom\u001b[39;00m \u001b[39mday5_lib\u001b[39;00m \u001b[39mimport\u001b[39;00m multiplier \u001b[39mas\u001b[39;00m mt,data\n\u001b[0;32m      6\u001b[0m values \u001b[39m=\u001b[39m \u001b[39minput\u001b[39m(\u001b[39m'\u001b[39m\u001b[39menter values seperated by comma,():\u001b[39m\u001b[39m'\u001b[39m)\n\u001b[0;32m      7\u001b[0m values\u001b[39m=\u001b[39m[\u001b[39meval\u001b[39m(val)\u001b[39mfor\u001b[39;00m val \u001b[39min\u001b[39;00m values\u001b[39m.\u001b[39msplit(\u001b[39m'\u001b[39m\u001b[39m,\u001b[39m\u001b[39m'\u001b[39m)]\n",
      "\u001b[1;31mImportError\u001b[0m: cannot import name 'multiplier' from 'day5_lib' (c:\\Users\\Lenovo\\Desktop\\python AIDP\\day5_lib.py)"
     ]
    }
   ],
   "source": [
    "#import day5_lib\n",
    "#from day5_lib import multiplier\n",
    "#import day5_lib as d5\n",
    "from day5_lib import multiplier as mt,data\n",
    "\n",
    "values = input('enter values seperated by comma,():')\n",
    "values=[eval(val)for val in values.split(',')]\n",
    "#print(values)\n",
    "#print(multiplier(*values))\n",
    "#print(d5.multiplier(*values))\n",
    "print(mt(*values))\n",
    "print(data * 3)"
   ]
  },
  {
   "cell_type": "code",
   "execution_count": 34,
   "metadata": {},
   "outputs": [
    {
     "ename": "ModuleNotFoundError",
     "evalue": "No module named 'day5_pack'",
     "output_type": "error",
     "traceback": [
      "\u001b[1;31m---------------------------------------------------------------------------\u001b[0m",
      "\u001b[1;31mModuleNotFoundError\u001b[0m                       Traceback (most recent call last)",
      "Cell \u001b[1;32mIn[34], line 1\u001b[0m\n\u001b[1;32m----> 1\u001b[0m \u001b[39mimport\u001b[39;00m \u001b[39mday5_pack\u001b[39;00m\u001b[39m.\u001b[39;00m\u001b[39mtest\u001b[39;00m \u001b[39mas\u001b[39;00m \u001b[39mtest\u001b[39;00m\n\u001b[0;32m      2\u001b[0m test\u001b[39m.\u001b[39mhi()\n\u001b[0;32m      5\u001b[0m \u001b[39mimport\u001b[39;00m \u001b[39mday5_pack\u001b[39;00m\n",
      "\u001b[1;31mModuleNotFoundError\u001b[0m: No module named 'day5_pack'"
     ]
    }
   ],
   "source": [
    "import day5_pack.test as test\n",
    "test.hi()\n",
    "\n",
    "\n",
    "import day5_pack\n",
    "day5_pack.test.hi()\n",
    "\n",
    "\n",
    "from day5_pack import test\n",
    "test.hi()"
   ]
  },
  {
   "cell_type": "code",
   "execution_count": null,
   "metadata": {},
   "outputs": [],
   "source": []
  }
 ],
 "metadata": {
  "kernelspec": {
   "display_name": ".venv",
   "language": "python",
   "name": "python3"
  },
  "language_info": {
   "codemirror_mode": {
    "name": "ipython",
    "version": 3
   },
   "file_extension": ".py",
   "mimetype": "text/x-python",
   "name": "python",
   "nbconvert_exporter": "python",
   "pygments_lexer": "ipython3",
   "version": "3.10.5"
  },
  "orig_nbformat": 4
 },
 "nbformat": 4,
 "nbformat_minor": 2
}
